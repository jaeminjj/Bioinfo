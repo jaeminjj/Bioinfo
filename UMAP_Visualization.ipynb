{
 "cells": [
  {
   "cell_type": "code",
   "execution_count": null,
   "id": "e0805e66-f4f5-411c-819e-d8bb9803500a",
   "metadata": {},
   "outputs": [],
   "source": [
    "import pandas as pd"
   ]
  },
  {
   "cell_type": "code",
   "execution_count": null,
   "id": "7c27b54a-3581-4ace-ac0e-f10144276630",
   "metadata": {},
   "outputs": [],
   "source": [
    "pd.DataFrame(data=labels_val).to_csv('/workspace/jaeminjeon_950515/SNUH/school/bioinfo1/answer.csv')\n",
    "pd.DataFrame(np.array(predictions_prob)[:,1]).to_csv('/workspace/jaeminjeon_950515/SNUH/school/bioinfo1/one_hot_prob.csv')"
   ]
  },
  {
   "cell_type": "code",
   "execution_count": null,
   "id": "caee3adc-127d-4e6e-8d85-35d065da50dc",
   "metadata": {},
   "outputs": [],
   "source": [
    "from sklearn import datasets\n",
    "from sklearn.model_selection import train_test_split\n",
    "from sklearn.preprocessing import StandardScaler\n",
    "from sklearn.linear_model import LogisticRegression\n",
    "from sklearn.metrics import roc_curve, auc\n",
    "import matplotlib.pyplot as plt\n",
    "from sklearn.pipeline import make_pipeline\n",
    "\n",
    "\n",
    "fpr3, tpr3, thresholds = roc_curve(labels_val,np.array(a.iloc[:,0]))\n",
    "roc_auc2 = auc(fpr2, tpr2)\n",
    "\n",
    "fpr3, tpr3, thresholds = roc_curve(labels_val,np.array(predictions_prob)[:,1])\n",
    "roc_auc3 = auc(fpr3, tpr3)\n",
    " \n",
    "fig, ax = plt.subplots(figsize=(7.5, 7.5))\n",
    " \n",
    "plt.plot(fpr2, tpr2, label='DNA BERT encoder (AUC = %0.2f)' % (roc_auc2))\n",
    "plt.plot(fpr3, tpr3, label='One-hot encoder (AUC = %0.2f)' % (roc_auc3))\n",
    "plt.plot([0, 1], [0, 1], linestyle='--', color='red', label='Random Classifier')   \n",
    "\n",
    "plt.xlim([-0.01, 1.01])\n",
    "plt.ylim([-0.01, 1.01])\n",
    "plt.xlabel('False positive rate')\n",
    "plt.ylabel('True positive rate')\n",
    "plt.legend(loc=\"lower right\")\n",
    "plt.show()"
   ]
  },
  {
   "cell_type": "markdown",
   "id": "67d94771-8440-4f4c-9613-77cf9cbc00d2",
   "metadata": {},
   "source": [
    "# UMAP"
   ]
  },
  {
   "cell_type": "code",
   "execution_count": 1,
   "id": "67134fb2-dc5b-4d31-93e6-0f1e60193a49",
   "metadata": {},
   "outputs": [
    {
     "data": {
      "text/html": [
       "<style type='text/css'>\n",
       ".datatable table.frame { margin-bottom: 0; }\n",
       ".datatable table.frame thead { border-bottom: none; }\n",
       ".datatable table.frame tr.coltypes td {  color: #FFFFFF;  line-height: 6px;  padding: 0 0.5em;}\n",
       ".datatable .bool    { background: #DDDD99; }\n",
       ".datatable .object  { background: #565656; }\n",
       ".datatable .int     { background: #5D9E5D; }\n",
       ".datatable .float   { background: #4040CC; }\n",
       ".datatable .str     { background: #CC4040; }\n",
       ".datatable .time    { background: #40CC40; }\n",
       ".datatable .row_index {  background: var(--jp-border-color3);  border-right: 1px solid var(--jp-border-color0);  color: var(--jp-ui-font-color3);  font-size: 9px;}\n",
       ".datatable .frame tbody td { text-align: left; }\n",
       ".datatable .frame tr.coltypes .row_index {  background: var(--jp-border-color0);}\n",
       ".datatable th:nth-child(2) { padding-left: 12px; }\n",
       ".datatable .hellipsis {  color: var(--jp-cell-editor-border-color);}\n",
       ".datatable .vellipsis {  background: var(--jp-layout-color0);  color: var(--jp-cell-editor-border-color);}\n",
       ".datatable .na {  color: var(--jp-cell-editor-border-color);  font-size: 80%;}\n",
       ".datatable .sp {  opacity: 0.25;}\n",
       ".datatable .footer { font-size: 9px; }\n",
       ".datatable .frame_dimensions {  background: var(--jp-border-color3);  border-top: 1px solid var(--jp-border-color0);  color: var(--jp-ui-font-color3);  display: inline-block;  opacity: 0.6;  padding: 1px 10px 1px 5px;}\n",
       "</style>\n"
      ],
      "text/plain": [
       "<IPython.core.display.HTML object>"
      ]
     },
     "metadata": {},
     "output_type": "display_data"
    },
    {
     "name": "stderr",
     "output_type": "stream",
     "text": [
      "2023-06-07 11:35:13.302532: I tensorflow/core/platform/cpu_feature_guard.cc:151] This TensorFlow binary is optimized with oneAPI Deep Neural Network Library (oneDNN) to use the following CPU instructions in performance-critical operations:  AVX2 FMA\n",
      "To enable them in other operations, rebuild TensorFlow with the appropriate compiler flags.\n"
     ]
    },
    {
     "name": "stdout",
     "output_type": "stream",
     "text": [
      "cuda\n"
     ]
    },
    {
     "name": "stderr",
     "output_type": "stream",
     "text": [
      "2023-06-07 11:36:02.789572: I tensorflow/core/common_runtime/gpu/gpu_device.cc:1525] Created device /job:localhost/replica:0/task:0/device:GPU:0 with 19470 MB memory:  -> device: 0, name: NVIDIA RTX A6000, pci bus id: 0000:41:00.0, compute capability: 8.6\n"
     ]
    }
   ],
   "source": [
    "import os\n",
    "import torch\n",
    "import torch.nn as nn\n",
    "import os\n",
    "import pandas as pd\n",
    "import numpy as np\n",
    "\n",
    "from sklearn.model_selection import train_test_split\n",
    "from sklearn.metrics import confusion_matrix\n",
    "\n",
    "#from keras.models import Sequential, Model\n",
    "#from keras.layers import Dense, Input\n",
    "import datatable as dt\n",
    "from sklearn.preprocessing import LabelEncoder\n",
    "from sklearn.neural_network import MLPClassifier\n",
    "from sklearn import metrics\n",
    "import joblib\n",
    "from sklearn.ensemble import ExtraTreesClassifier\n",
    "from sklearn.inspection import permutation_importance\n",
    "from sklearn.ensemble import RandomForestClassifier\n",
    "import os\n",
    "from keras.models import load_model\n",
    "import joblib\n",
    "from sklearn.neural_network import MLPClassifier\n",
    "from tensorflow.compat.v1 import ConfigProto\n",
    "from tensorflow.compat.v1 import InteractiveSession\n",
    "import matplotlib.pyplot as plt\n",
    "from tqdm import tqdm\n",
    "import torch\n",
    "from torch import nn, optim\n",
    "from torch.utils.data import DataLoader\n",
    "from torchvision import datasets\n",
    "from torchvision.transforms import ToTensor\n",
    "from sklearn.preprocessing import LabelEncoder\n",
    "from sklearn.neural_network import MLPClassifier\n",
    "\n",
    "from torch.utils.data import DataLoader\n",
    "from torchvision import datasets\n",
    "from torchvision.transforms import ToTensor\n",
    "PATH='/home/jm/SNUH/methylation/v2/compare/'\n",
    "\n",
    "\n",
    "os.environ[\"CUDA_VISIBLE_DEVICES\"]=\"1\" # 0, 1, 2, 3 중 하나\n",
    "config = ConfigProto()\n",
    "config.gpu_options.per_process_gpu_memory_fraction = 0.4 # GPU 점유 비율\n",
    "session = InteractiveSession(config=config)\n",
    "\n",
    "device = torch.device('cuda' if torch.cuda.is_available() else 'cpu')\n",
    "print(device)\n",
    "\n",
    "                        "
   ]
  },
  {
   "cell_type": "code",
   "execution_count": 3,
   "id": "bf0f235e-7f71-4c09-a1c3-dd23dda5bfcb",
   "metadata": {},
   "outputs": [],
   "source": [
    "data=pd.read_csv('/workspace/jaeminjeon_950515/SNUH/school/bioinfo1/35L33G.csv')\n",
    "data['labels']='binding_Motif'\n",
    "data1=pd.read_csv('/workspace/jaeminjeon_950515/SNUH/school/bioinfo1/control.csv')\n",
    "\n",
    "data1.columns=['results','labels']\n",
    "data1['labels']='control'\n",
    "data=data.drop_duplicates('results')\n",
    "data1=data1.drop_duplicates('results')"
   ]
  },
  {
   "cell_type": "code",
   "execution_count": 22,
   "id": "49ca190f-ec72-4b66-8de4-1e1353a7bcd7",
   "metadata": {
    "collapsed": true,
    "jupyter": {
     "outputs_hidden": true
    },
    "tags": []
   },
   "outputs": [
    {
     "data": {
      "text/plain": [
       "['binding_Motif',\n",
       " 'binding_Motif',\n",
       " 'binding_Motif',\n",
       " 'binding_Motif',\n",
       " 'binding_Motif',\n",
       " 'binding_Motif',\n",
       " 'binding_Motif',\n",
       " 'binding_Motif',\n",
       " 'binding_Motif',\n",
       " 'binding_Motif',\n",
       " 'binding_Motif',\n",
       " 'binding_Motif',\n",
       " 'binding_Motif',\n",
       " 'binding_Motif',\n",
       " 'binding_Motif',\n",
       " 'binding_Motif',\n",
       " 'binding_Motif',\n",
       " 'binding_Motif',\n",
       " 'binding_Motif',\n",
       " 'binding_Motif',\n",
       " 'control',\n",
       " 'control',\n",
       " 'control',\n",
       " 'control',\n",
       " 'control',\n",
       " 'control',\n",
       " 'control',\n",
       " 'control',\n",
       " 'control',\n",
       " 'control',\n",
       " 'control',\n",
       " 'control',\n",
       " 'control',\n",
       " 'control',\n",
       " 'control',\n",
       " 'control',\n",
       " 'control',\n",
       " 'control',\n",
       " 'control',\n",
       " 'control']"
      ]
     },
     "execution_count": 22,
     "metadata": {},
     "output_type": "execute_result"
    }
   ],
   "source": [
    "['binding_Motif']*20+['control']*20"
   ]
  },
  {
   "cell_type": "code",
   "execution_count": 7,
   "id": "1b5a7cb9-723a-4312-9720-8eaf5617564f",
   "metadata": {
    "collapsed": true,
    "jupyter": {
     "outputs_hidden": true
    },
    "tags": []
   },
   "outputs": [
    {
     "data": {
      "text/plain": [
       "['TCTGGAGTGTCTGAAGAC',\n",
       " 'CTTCTGGAGTGTCTGAAG',\n",
       " 'ACCACATGGTGGCTCACA',\n",
       " 'GATCTGACGCCCTCTTCT',\n",
       " 'TTCCGAAGGTCCAGAGTT',\n",
       " 'GGTCAGGAGTTCAAATCC',\n",
       " 'CACATGGTGGCTCACAAC',\n",
       " 'AACCACATGGTGGCTCAC',\n",
       " 'GGTCCGGAGTTCAAATCC',\n",
       " 'GAGCACCCGACTGCTCTT',\n",
       " 'AAGATGAGGAGGACGTAA',\n",
       " 'ATGAGGAGGACGTAAAAC',\n",
       " 'GGCTTTGAGAGTCCTGAA',\n",
       " 'CCTGACCAGCAGAGGCTG',\n",
       " 'GACCAGCAGAGGCTGATC',\n",
       " 'TTTGTGATGGGTGTGAAC',\n",
       " 'CTTCCAAAGGTCCGGAGT',\n",
       " 'CTTCCGAAGGTCAGGAGT',\n",
       " 'TCTGACCTGTGCAGGCAC',\n",
       " 'TATGAGGAGGTTGGTGTG']"
      ]
     },
     "execution_count": 7,
     "metadata": {},
     "output_type": "execute_result"
    }
   ],
   "source": [
    "list(data.iloc[:20,0])\n",
    "list(data1.iloc[:20,0])"
   ]
  },
  {
   "cell_type": "code",
   "execution_count": 9,
   "id": "6083208f-aa6f-4995-af0c-0fadcfea025b",
   "metadata": {},
   "outputs": [],
   "source": [
    "bases=['A','C','G','T']\n",
    "encoded_matrices = []\n",
    "for seq in data.iloc[:20,0]:\n",
    "    encoded_seq = []\n",
    "    for base in seq:\n",
    "        encoded_base = [int(base == b) for b in bases]\n",
    "        encoded_seq.append(encoded_base)\n",
    "    encoded_matrices.append(encoded_seq)\n",
    "\n",
    "# Convert the list of matrices to a numpy array\n",
    "encoded_matrices = np.array(encoded_matrices)\n",
    "bases=['A','C','G','T']\n",
    "encoded_matrices1 = []\n",
    "for seq in data1.iloc[:20,0]:\n",
    "    encoded_seq = []\n",
    "    for base in seq:\n",
    "        encoded_base = [int(base == b) for b in bases]\n",
    "        encoded_seq.append(encoded_base)\n",
    "    encoded_matrices1.append(encoded_seq)\n",
    "\n",
    "# Convert the list of matrices to a numpy array\n",
    "encoded_matrices1 = np.array(encoded_matrices)"
   ]
  },
  {
   "cell_type": "code",
   "execution_count": 19,
   "id": "1933a9df-a44e-4714-b02e-d0ac026e9813",
   "metadata": {},
   "outputs": [],
   "source": [
    "encoded_matrices=encoded_matrices.reshape(20,72)\n",
    "encoded_matrices1=encoded_matrices1.reshape(20,72)"
   ]
  },
  {
   "cell_type": "code",
   "execution_count": 25,
   "id": "61c0c6d1-b8dd-4145-8830-6f6bc0dcca38",
   "metadata": {
    "tags": []
   },
   "outputs": [],
   "source": [
    "a=pd.DataFrame(encoded_matrices)\n",
    "b=pd.DataFrame(encoded_matrices1)"
   ]
  },
  {
   "cell_type": "code",
   "execution_count": 27,
   "id": "d5594ecb-50ef-4a75-a258-5a32269bd931",
   "metadata": {},
   "outputs": [],
   "source": [
    "c=pd.concat([a,b])\n",
    "c=c.reset_index(drop=True)"
   ]
  },
  {
   "cell_type": "code",
   "execution_count": 29,
   "id": "bb0d917d-f3bb-4014-addf-009d4c686b68",
   "metadata": {},
   "outputs": [
    {
     "data": {
      "image/png": "[encoded data removed]",
      "text/plain": [
       "<Figure size 800x800 with 1 Axes>"
      ]
     },
     "metadata": {
      "needs_background": "light"
     },
     "output_type": "display_data"
    }
   ],
   "source": [
    "import matplotlib.pyplot as plt\n",
    "from matplotlib.pyplot import figure\n",
    "import seaborn as sns\n",
    "import umap\n",
    "\n",
    "embedding_gene_corr_full = umap.UMAP().fit_transform(c)\n",
    "\n",
    "figure(figsize=(10, 10), dpi=80)\n",
    "plot=pd.DataFrame(index=range(len(embedding_gene_corr_full)),columns =['x','y','type'])\n",
    "plot['x']=embedding_gene_corr_full[:,0]\n",
    "plot['y']=embedding_gene_corr_full[:,1]\n",
    "plot['type']=['binding_Motif']*20+['control']*20\n",
    "umall=sns.scatterplot(x='x',y='y',hue='type',data=plot,s=90,linewidth=0)\n",
    "plt.legend(bbox_to_anchor=(1.02, 1), loc='upper left', borderaxespad=0)\n",
    "umall = umall.get_figure()"
   ]
  },
  {
   "cell_type": "code",
   "execution_count": null,
   "id": "d10e06f6-9d23-4d7a-b7fa-381aafd4bdff",
   "metadata": {},
   "outputs": [],
   "source": [
    "from transformers import AutoTokenizer, AutoModelForSequenceClassification, AdamW\n",
    "from transformers import AutoTokenizer, AutoModel\n",
    "model_name = \"InstaDeepAI/nucleotide-transformer-500m-human-ref\"\n",
    "#model_name = \"BMILab/TCR-BERT-MLM\"\n",
    "tokenizer = AutoTokenizer.from_pretrained(model_name)\n",
    "encoded_matrices = tokenizer(train_sequences, truncation=True, padding=True, return_tensors='pt')\n",
    "input_ids = encoded_matrices['input_ids'].to(device)\n",
    "attention_mask = encoded_matrices['attention_mask'].to(device)\n",
    "#label_batch1 = torch.tensor(train_labels).to(device)\n",
    "bert_model = AutoModel.from_pretrained(model_name).to(device)\n",
    "a=list()\n",
    "for i in range(0,input_ids.shape[0]):\n",
    "    \n",
    "    outputs = bert_model(input_ids[i:i+1],attention_mask[i:i+1])\n",
    "    a.append(outputs.last_hidden_state[:, 0, :].cpu().detach().numpy())"
   ]
  },
  {
   "cell_type": "code",
   "execution_count": null,
   "id": "f35d7a05-f913-441c-979a-1cf3bdb3fa75",
   "metadata": {},
   "outputs": [],
   "source": [
    "data=pd.read_csv('/workspace/jaeminjeon_950515/SNUH/school/bioinfo1/35L33G.csv')\n",
    "data['labels']='binding_Motif'\n",
    "data1=pd.read_csv('/workspace/jaeminjeon_950515/SNUH/school/bioinfo1/control.csv')\n",
    "\n",
    "data1.columns=['results','labels']\n",
    "data1['labels']='control'\n",
    "data=pd.concat([data,data1])"
   ]
  },
  {
   "cell_type": "code",
   "execution_count": 23,
   "id": "b95d3f23-2f8c-4fc7-bedc-82376ace481c",
   "metadata": {},
   "outputs": [
    {
     "data": {
      "text/html": [
       "<div>\n",
       "<style scoped>\n",
       "    .dataframe tbody tr th:only-of-type {\n",
       "        vertical-align: middle;\n",
       "    }\n",
       "\n",
       "    .dataframe tbody tr th {\n",
       "        vertical-align: top;\n",
       "    }\n",
       "\n",
       "    .dataframe thead th {\n",
       "        text-align: right;\n",
       "    }\n",
       "</style>\n",
       "<table border=\"1\" class=\"dataframe\">\n",
       "  <thead>\n",
       "    <tr style=\"text-align: right;\">\n",
       "      <th></th>\n",
       "      <th>results</th>\n",
       "      <th>labels</th>\n",
       "    </tr>\n",
       "  </thead>\n",
       "  <tbody>\n",
       "    <tr>\n",
       "      <th>0</th>\n",
       "      <td>GTGGGTAAGAGCACCCGA</td>\n",
       "      <td>binding_Motif</td>\n",
       "    </tr>\n",
       "    <tr>\n",
       "      <th>18</th>\n",
       "      <td>CTTCTGGAGTGTCTGAAG</td>\n",
       "      <td>binding_Motif</td>\n",
       "    </tr>\n",
       "    <tr>\n",
       "      <th>32</th>\n",
       "      <td>CATAATTTGTGGTAGTGG</td>\n",
       "      <td>binding_Motif</td>\n",
       "    </tr>\n",
       "    <tr>\n",
       "      <th>43</th>\n",
       "      <td>CTCTTCTGGAGTGTCTGA</td>\n",
       "      <td>binding_Motif</td>\n",
       "    </tr>\n",
       "    <tr>\n",
       "      <th>48</th>\n",
       "      <td>CTTCTGGTGTGTCTGAAG</td>\n",
       "      <td>binding_Motif</td>\n",
       "    </tr>\n",
       "    <tr>\n",
       "      <th>...</th>\n",
       "      <td>...</td>\n",
       "      <td>...</td>\n",
       "    </tr>\n",
       "    <tr>\n",
       "      <th>23252</th>\n",
       "      <td>AGTAATTTGTGCGGGTTT</td>\n",
       "      <td>binding_Motif</td>\n",
       "    </tr>\n",
       "    <tr>\n",
       "      <th>23253</th>\n",
       "      <td>GGTCAAGAGAGTATGAAC</td>\n",
       "      <td>binding_Motif</td>\n",
       "    </tr>\n",
       "    <tr>\n",
       "      <th>23254</th>\n",
       "      <td>ACAGAGCAGTGGTTCTGC</td>\n",
       "      <td>binding_Motif</td>\n",
       "    </tr>\n",
       "    <tr>\n",
       "      <th>23255</th>\n",
       "      <td>CTTAGAACGTGGATGCCA</td>\n",
       "      <td>binding_Motif</td>\n",
       "    </tr>\n",
       "    <tr>\n",
       "      <th>23256</th>\n",
       "      <td>CAGTTCAGGATGGAGCTG</td>\n",
       "      <td>binding_Motif</td>\n",
       "    </tr>\n",
       "  </tbody>\n",
       "</table>\n",
       "<p>22849 rows × 2 columns</p>\n",
       "</div>"
      ],
      "text/plain": [
       "                  results         labels\n",
       "0      GTGGGTAAGAGCACCCGA  binding_Motif\n",
       "18     CTTCTGGAGTGTCTGAAG  binding_Motif\n",
       "32     CATAATTTGTGGTAGTGG  binding_Motif\n",
       "43     CTCTTCTGGAGTGTCTGA  binding_Motif\n",
       "48     CTTCTGGTGTGTCTGAAG  binding_Motif\n",
       "...                   ...            ...\n",
       "23252  AGTAATTTGTGCGGGTTT  binding_Motif\n",
       "23253  GGTCAAGAGAGTATGAAC  binding_Motif\n",
       "23254  ACAGAGCAGTGGTTCTGC  binding_Motif\n",
       "23255  CTTAGAACGTGGATGCCA  binding_Motif\n",
       "23256  CAGTTCAGGATGGAGCTG  binding_Motif\n",
       "\n",
       "[22849 rows x 2 columns]"
      ]
     },
     "execution_count": 23,
     "metadata": {},
     "output_type": "execute_result"
    }
   ],
   "source": [
    "data"
   ]
  },
  {
   "cell_type": "code",
   "execution_count": null,
   "id": "44ee112c-f13d-4d10-8bf1-bce68906d7d8",
   "metadata": {},
   "outputs": [],
   "source": [
    "import matplotlib.pyplot as plt\n",
    "from matplotlib.pyplot import figure\n",
    "\n",
    "import umap\n",
    "\n",
    "embedding_gene_corr_full = umap.UMAP().fit_transform(full_data)\n",
    "\n",
    "figure(figsize=(10, 10), dpi=80)\n",
    "plot=pd.DataFrame(index=range(len(embedding_gene_corr_full)),columns =['x','y','type'])\n",
    "plot['x']=embedding_gene_corr_full[:,0]\n",
    "plot['y']=embedding_gene_corr_full[:,1]\n",
    "plot['type']=sample_label.iloc[:,1].to_list()\n",
    "umall=sns.scatterplot(x='x',y='y',hue='type',data=plot,s=90,linewidth=0)\n",
    "plt.legend(bbox_to_anchor=(1.02, 1), loc='upper left', borderaxespad=0)\n",
    "umall = umall.get_figure()"
   ]
  }
 ],
 "metadata": {
  "kernelspec": {
   "display_name": "Python 3 (ipykernel)",
   "language": "python",
   "name": "python3"
  },
  "language_info": {
   "codemirror_mode": {
    "name": "ipython",
    "version": 3
   },
   "file_extension": ".py",
   "mimetype": "text/x-python",
   "name": "python",
   "nbconvert_exporter": "python",
   "pygments_lexer": "ipython3",
   "version": "3.8.10"
  }
 },
 "nbformat": 4,
 "nbformat_minor": 5
}
