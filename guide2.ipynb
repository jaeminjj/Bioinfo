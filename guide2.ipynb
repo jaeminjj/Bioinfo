{
 "cells": [
  {
   "cell_type": "code",
   "execution_count": 21,
   "id": "17814eb8-fab8-4f3b-a1fd-eb44e9745655",
   "metadata": {},
   "outputs": [],
   "source": [
    "import pandas as pd"
   ]
  },
  {
   "cell_type": "code",
   "execution_count": 35,
   "id": "9111e6cb-82ec-4a1a-84ae-36bcec06fb22",
   "metadata": {},
   "outputs": [],
   "source": [
    "a=pd.read_csv('/home/jaeminjj/homer/DMR_iCMS2.bed',sep='\\t')"
   ]
  },
  {
   "cell_type": "code",
   "execution_count": 36,
   "id": "80974ae1-efaf-480f-88fe-0ea58b638869",
   "metadata": {},
   "outputs": [],
   "source": [
    "a['strand']='+'\n",
    "a.to_csv('/home/jaeminjj/homer/DMR_iCMS21.bed',sep='\\t')"
   ]
  },
  {
   "cell_type": "code",
   "execution_count": 43,
   "id": "d985263c-bea0-42f1-8805-435500de383f",
   "metadata": {},
   "outputs": [],
   "source": [
    "a=pd.read_csv('/home/jaeminjj/homer/DMR_iCMS3.bed',sep='\\t')\n",
    "a['strand']='+'\n",
    "a.to_csv('/home/jaeminjj/homer/DMR_iCMS31.bed',sep='\\t')"
   ]
  },
  {
   "cell_type": "code",
   "execution_count": 41,
   "id": "20e594fb-4d9f-488d-a5e2-57e9fdd0ef65",
   "metadata": {},
   "outputs": [],
   "source": [
    "pd.read_csv('/home/jaeminjj/homer/DMP_iCMS2.bed',sep='\\t')\n",
    "a['strand']='+'\n",
    "a.to_csv('/home/jaeminjj/homer/DMP_iCMS21.bed',sep='\\t')"
   ]
  },
  {
   "cell_type": "code",
   "execution_count": 42,
   "id": "8e017021-bc7f-4354-ae78-04ffc71d4bc5",
   "metadata": {},
   "outputs": [],
   "source": [
    "pd.read_csv('/home/jaeminjj/homer/DMP_iCMS3.bed',sep='\\t')\n",
    "a['strand']='+'\n",
    "a.to_csv('/home/jaeminjj/homer/DMP_iCMS31.bed',sep='\\t')"
   ]
  },
  {
   "cell_type": "code",
   "execution_count": 25,
   "id": "9ee0ca03-f040-403e-8471-cfafde21ae3a",
   "metadata": {},
   "outputs": [],
   "source": [
    "a.to_csv('/home/jaeminjj/homer/DMP_iCMS21.bed',sep='\\t')"
   ]
  },
  {
   "cell_type": "code",
   "execution_count": null,
   "id": "f25b16e6-bfe6-48c5-a3ca-13e8a04b7458",
   "metadata": {},
   "outputs": [],
   "source": [
    "!bedtools intersect -a ../gencode-start.gtf -b ../rpf/gencode-plusexon.gtf -wa -wb | \\\n",
    " awk -F'\t' -v OFS='\t' '$9 == $18 { print $10, $13-1, $14, $18, $4-1, $16; }' | \\\n",
    " sort -k1,1 -k2,3n -k4,4 > ../rpf/gencode-exons-containing-startcodon.bed\n",
    "!head ../rpf/gencode-exons-containing-startcodon.bed; tail ../rpf/gencode-exons-containing-startcodon.bed"
   ]
  },
  {
   "cell_type": "code",
   "execution_count": 11,
   "id": "9c32165e-e768-413f-88f6-52835e508793",
   "metadata": {},
   "outputs": [
    {
     "name": "stdout",
     "output_type": "stream",
     "text": [
      "chr1\tHAVANA\tstart_codon\t4878137\t4878139\t.\t+\t0\tENSMUST00000134384.8\n",
      "chr1\tHAVANA\tstart_codon\t4878137\t4878139\t.\t+\t0\tENSMUST00000027036.11\n",
      "chr1\tHAVANA\tstart_codon\t4878137\t4878139\t.\t+\t0\tENSMUST00000150971.8\n",
      "chr1\tHAVANA\tstart_codon\t4928137\t4928139\t.\t+\t0\tENSMUST00000081551.14\n",
      "chr1\tHAVANA\tstart_codon\t5154674\t5154676\t.\t+\t0\tENSMUST00000044369.13\n",
      "chr1\tHAVANA\tstart_codon\t5659272\t5659274\t.\t+\t0\tENSMUST00000160777.8\n",
      "chr1\tHAVANA\tstart_codon\t5659272\t5659274\t.\t+\t0\tENSMUST00000027038.11\n",
      "chr1\tHAVANA\tstart_codon\t6300227\t6300229\t.\t+\t0\tENSMUST00000027040.13\n",
      "chr1\tHAVANA\tstart_codon\t6429555\t6429557\t.\t+\t0\tENSMUST00000133144.4\n",
      "chr1\tHAVANA\tstart_codon\t6839122\t6839124\t.\t+\t0\tENSMUST00000140079.8\n"
     ]
    }
   ],
   "source": [
    "!grep '\tstart_codon\t.*\t+\t.*transcript_support_level \"1\"' /data1/projects/2021_MOPA/bioinfo/binfo1-datapack1/gencode.gtf | \\\n",
    "sed -e 's/\t[^\t]*transcript_id \"\\([^\"]*\\)\".*$/\t\\1/g' > /data1/projects/2021_MOPA/bioinfo/binfo1-datapack1/gencode-start.gtf\n",
    "!head gencode-start.gtf\n"
   ]
  },
  {
   "cell_type": "code",
   "execution_count": 14,
   "id": "a07226f5-b7b5-448e-8e58-31ad7ce8ca16",
   "metadata": {},
   "outputs": [
    {
     "name": "stdout",
     "output_type": "stream",
     "text": [
      "chr1\tHAVANA\texon\t3143476\t3144545\t.\t+\t.\tENSMUST00000193812.2\n",
      "chr1\tENSEMBL\texon\t3172239\t3172348\t.\t+\t.\tENSMUST00000082908.3\n",
      "chr1\tHAVANA\texon\t3322980\t3323459\t.\t+\t.\tENSMUST00000192857.2\n",
      "chr1\tHAVANA\texon\t3536810\t3536910\t.\t+\t.\tENSMUST00000161581.2\n",
      "chr1\tHAVANA\texon\t3583628\t3583776\t.\t+\t.\tENSMUST00000161581.2\n",
      "chr1\tHAVANA\texon\t3602018\t3602943\t.\t+\t.\tENSMUST00000192183.2\n",
      "chr1\tHAVANA\texon\t3750378\t3752011\t.\t+\t.\tENSMUST00000193244.2\n",
      "chr1\tHAVANA\texon\t3822233\t3824583\t.\t+\t.\tENSMUST00000194454.2\n",
      "chr1\tHAVANA\texon\t4566774\t4569601\t.\t+\t.\tENSMUST00000193450.2\n",
      "chr1\tHAVANA\texon\t4567697\t4567877\t.\t+\t.\tENSMUST00000194935.2\n"
     ]
    }
   ],
   "source": [
    "!grep '\texon\t.*\t+\t' /data1/projects//2021_MOPA/bioinfo/binfo1-datapack1/gencode.gtf | \\\n",
    " sed -e 's/\t[^\t]*transcript_id \"\\([^\"]*\\)\".*$/\t\\1/g' > /data1/projects//2021_MOPA/bioinfo/binfo1-datapack1/gencode-plusexon.gtf\n",
    "!head /data1/projects//2021_MOPA/bioinfo/binfo1-datapack1/gencode-plusexon.gtf"
   ]
  },
  {
   "cell_type": "code",
   "execution_count": 83,
   "id": "1fd74bf1-d9e4-46e0-872f-1df26d47b7fb",
   "metadata": {},
   "outputs": [
    {
     "name": "stdout",
     "output_type": "stream",
     "text": [
      "chr1\t4878010\t4878205\tENSMUST00000134384.8\t4878136\t+\n",
      "chr1\t4878045\t4878205\tENSMUST00000027036.11\t4878136\t+\n",
      "chr1\t4878052\t4878205\tENSMUST00000150971.8\t4878136\t+\n",
      "chr1\t4928036\t4928199\tENSMUST00000081551.14\t4928136\t+\n",
      "chr1\t5154639\t5154786\tENSMUST00000044369.13\t5154673\t+\n",
      "chr1\t5659227\t5659528\tENSMUST00000027038.11\t5659271\t+\n",
      "chr1\t5659257\t5659528\tENSMUST00000160777.8\t5659271\t+\n",
      "chr1\t6300182\t6300297\tENSMUST00000027040.13\t6300226\t+\n",
      "chr1\t6429441\t6429738\tENSMUST00000133144.4\t6429554\t+\n",
      "chr1\t6839121\t6839176\tENSMUST00000043578.13\t6839121\t+\n",
      "chrY\t80939672\t80939804\tENSMUST00000185340.2\t80939686\t+\n",
      "chrY\t81470683\t81470815\tENSMUST00000187135.2\t81470697\t+\n",
      "chrY\t82237903\t82238035\tENSMUST00000185636.2\t82237917\t+\n",
      "chrY\t83043623\t83043755\tENSMUST00000187165.2\t83043637\t+\n",
      "chrY\t84109956\t84110088\tENSMUST00000185776.7\t84109970\t+\n",
      "chrY\t84759361\t84759493\tENSMUST00000186110.2\t84759375\t+\n",
      "chrY\t86074448\t86074580\tENSMUST00000188754.2\t86074462\t+\n",
      "chrY\t87129500\t87129632\tENSMUST00000189543.7\t87129514\t+\n",
      "chrY\t87563647\t87563779\tENSMUST00000186493.2\t87563661\t+\n",
      "chrY\t88065992\t88066124\tENSMUST00000187146.2\t88066006\t+\n"
     ]
    }
   ],
   "source": [
    "!bedtools intersect -a /data1/projects//2021_MOPA/bioinfo/binfo1-datapack1/gencode-start.gtf -b /data1/projects//2021_MOPA/bioinfo/binfo1-datapack1//gencode-plusexon.gtf -wa -wb | \\\n",
    " awk -F'\t' -v OFS='\t' '$9 == $18 { print $10, $13-1, $14, $18, $4-1, $16; }' | \\\n",
    " sort -k1,1 -k2,3n -k4,4 > /data1/projects//2021_MOPA/bioinfo/binfo1-datapack1//gencode-exons-containing-startcodon.bed\n",
    "!head /data1/projects//2021_MOPA/bioinfo/binfo1-datapack1//gencode-exons-containing-startcodon.bed; tail /data1/projects//2021_MOPA/bioinfo/binfo1-datapack1//gencode-exons-containing-startcodon.bed"
   ]
  },
  {
   "cell_type": "code",
   "execution_count": 85,
   "id": "6033340b-ea5c-426a-b296-92cc35eaaace",
   "metadata": {},
   "outputs": [
    {
     "name": "stdout",
     "output_type": "stream",
     "text": [
      "chr1\t4878010\t4878205\tENSMUST00000134384.8\t4878136\t+\n",
      "chr1\t4878045\t4878205\tENSMUST00000027036.11\t4878136\t+\n",
      "chr1\t4878052\t4878205\tENSMUST00000150971.8\t4878136\t+\n",
      "chr1\t4928036\t4928199\tENSMUST00000081551.14\t4928136\t+\n",
      "chr1\t5154639\t5154786\tENSMUST00000044369.13\t5154673\t+\n",
      "chr1\t5659227\t5659528\tENSMUST00000027038.11\t5659271\t+\n",
      "chr1\t5659257\t5659528\tENSMUST00000160777.8\t5659271\t+\n",
      "chr1\t6300182\t6300297\tENSMUST00000027040.13\t6300226\t+\n",
      "chr1\t6429441\t6429738\tENSMUST00000133144.4\t6429554\t+\n",
      "chr1\t6839121\t6839176\tENSMUST00000043578.13\t6839121\t+\n"
     ]
    }
   ],
   "source": [
    "!head /data1/projects//2021_MOPA/bioinfo/binfo1-datapack1/gencode-exons-containing-startcodon.bed"
   ]
  },
  {
   "cell_type": "code",
   "execution_count": 15,
   "id": "e2b6f470-498c-4dcc-8f5f-25d41219bdbc",
   "metadata": {},
   "outputs": [
    {
     "name": "stdout",
     "output_type": "stream",
     "text": [
      "chr1\t4878010\t4878205\tENSMUST00000134384.8\t4878136\t+\n",
      "chr1\t4878045\t4878205\tENSMUST00000027036.11\t4878136\t+\n",
      "chr1\t4878052\t4878205\tENSMUST00000150971.8\t4878136\t+\n",
      "chr1\t4928036\t4928199\tENSMUST00000081551.14\t4928136\t+\n",
      "chr1\t5154639\t5154786\tENSMUST00000044369.13\t5154673\t+\n",
      "chr1\t5659227\t5659528\tENSMUST00000027038.11\t5659271\t+\n",
      "chr1\t5659257\t5659528\tENSMUST00000160777.8\t5659271\t+\n",
      "chr1\t6300182\t6300297\tENSMUST00000027040.13\t6300226\t+\n",
      "chr1\t6429441\t6429738\tENSMUST00000133144.4\t6429554\t+\n",
      "chr1\t6839121\t6839176\tENSMUST00000043578.13\t6839121\t+\n",
      "chrY\t80939672\t80939804\tENSMUST00000185340.2\t80939686\t+\n",
      "chrY\t81470683\t81470815\tENSMUST00000187135.2\t81470697\t+\n",
      "chrY\t82237903\t82238035\tENSMUST00000185636.2\t82237917\t+\n",
      "chrY\t83043623\t83043755\tENSMUST00000187165.2\t83043637\t+\n",
      "chrY\t84109956\t84110088\tENSMUST00000185776.7\t84109970\t+\n",
      "chrY\t84759361\t84759493\tENSMUST00000186110.2\t84759375\t+\n",
      "chrY\t86074448\t86074580\tENSMUST00000188754.2\t86074462\t+\n",
      "chrY\t87129500\t87129632\tENSMUST00000189543.7\t87129514\t+\n",
      "chrY\t87563647\t87563779\tENSMUST00000186493.2\t87563661\t+\n",
      "chrY\t88065992\t88066124\tENSMUST00000187146.2\t88066006\t+\n"
     ]
    }
   ],
   "source": [
    "!bedtools intersect -a /data1/projects//2021_MOPA/bioinfo/binfo1-datapack1//gencode-start.gtf -b /data1/projects//2021_MOPA/bioinfo/binfo1-datapack1/gencode-plusexon.gtf -wa -wb | \\\n",
    " awk -F'\t' -v OFS='\t' '$9 == $18 { print $10, $13-1, $14, $18, $4-1, $16; }' | \\\n",
    " sort -k1,1 -k2,3n -k4,4 > /data1/projects//2021_MOPA/bioinfo/binfo1-datapack1/gencode-exons-containing-startcodon.bed\n",
    "!head /data1/projects//2021_MOPA/bioinfo/binfo1-datapack1//gencode-exons-containing-startcodon.bed; tail /data1/projects//2021_MOPA/bioinfo/binfo1-datapack1//gencode-exons-containing-startcodon.bed"
   ]
  },
  {
   "cell_type": "code",
   "execution_count": 71,
   "id": "432b40f2-f647-42f9-9475-bbca084b1240",
   "metadata": {},
   "outputs": [
    {
     "name": "stdout",
     "output_type": "stream",
     "text": [
      "/bin/bash: bioawk: command not found\n",
      "samtools view: writing to standard output failed: Broken pipe\n",
      "samtools view: error closing standard output: -1\n"
     ]
    }
   ],
   "source": [
    "!(samtools view -H /data1/projects/2021_MOPA/bioinfo/binfo1-datapack1/RPF-siLuc.bam; \\\n",
    "  samtools view -F20 /data1/projects/2021_MOPA/bioinfo/binfo1-datapack1/RPF-siLuc.bam | \\\n",
    "  bioawk -c sam '{ if (length($seq) >= 25) print $0; }') | \\\n",
    " samtools view -b -o /data1/projects/2021_MOPA/bioinfo/binfo1-datapack1//filtered-RPF-siLuc.bam"
   ]
  },
  {
   "cell_type": "code",
   "execution_count": 84,
   "id": "ba204745-f528-46ff-8616-b7d274c5d645",
   "metadata": {},
   "outputs": [],
   "source": [
    "!head /data1/projects/2021_MOPA/bioinfo/binfo1-datapack1/fivepcounts-filtered-RPF-siLuc.txt"
   ]
  },
  {
   "cell_type": "code",
   "execution_count": 86,
   "id": "bfcaea17-01c3-4dd9-9332-477bc91a3e17",
   "metadata": {},
   "outputs": [
    {
     "name": "stdout",
     "output_type": "stream",
     "text": [
      "/bin/bash: ../rpf/fivepcounts-filtered-RPF-siLin28a.txt: No such file or directory\n",
      "head: cannot open '../rpf/fivepcounts-filtered-RPF-siLin28a.txt' for reading: No such file or directory\n"
     ]
    }
   ],
   "source": [
    "!bedtools intersect -a ../rpf/fivepcounts-RPF-siLin28a.bed -b ../rpf/gencode-exons-containing-startcodon.bed \\\n",
    " -wa -wb -nonamecheck > ../rpf/fivepcounts-filtered-RPF-siLin28a.txt\n",
    "!head ../rpf/fivepcounts-filtered-RPF-siLin28a.txt"
   ]
  },
  {
   "cell_type": "code",
   "execution_count": 75,
   "id": "75b04d64-27ee-484c-9375-3e47f9aabe9a",
   "metadata": {
    "tags": []
   },
   "outputs": [],
   "source": [
    "!(samtools view -H /data1/projects/2021_MOPA/bioinfo/binfo1-datapack1/RPF-siLin28a.bam;\\\n",
    "samtools view -F20 /data1/projects/2021_MOPA/bioinfo/binfo1-datapack1/RPF-siLin28a.bam | \\\n",
    "awk '{ if (length($10) >= 25) print $0; }') | \\\n",
    "samtools view -b -o /data1/projects/2021_MOPA/bioinfo/binfo1-datapack1/filtered-RPF-siLin28a.bam\n",
    "\n"
   ]
  },
  {
   "cell_type": "code",
   "execution_count": 76,
   "id": "f7e2c650-9f7b-43be-b766-e756a6d1b777",
   "metadata": {},
   "outputs": [],
   "source": [
    "!(samtools view -H /data1/projects/2021_MOPA/bioinfo/binfo1-datapack1/RPF-siLuc.bam;\\\n",
    "samtools view -F20 /data1/projects/2021_MOPA/bioinfo/binfo1-datapack1/RPF-siLuc.bam |\\\n",
    "awk '{ if (length($10) >= 25) print $0; }') |\\\n",
    "samtools view -b -o /data1/projects/2021_MOPA/bioinfo/binfo1-datapack1/filtered-RPF-siLuc.bam\n",
    "\n"
   ]
  },
  {
   "cell_type": "code",
   "execution_count": null,
   "id": "1a3adf95-689b-4ad7-9133-47f2ea9c0ad2",
   "metadata": {},
   "outputs": [],
   "source": [
    "!ls -alh ../rpf/*.bam"
   ]
  },
  {
   "cell_type": "code",
   "execution_count": 78,
   "id": "8ba2ab5b-15a7-494e-9295-ebaea7557bfd",
   "metadata": {},
   "outputs": [
    {
     "name": "stdout",
     "output_type": "stream",
     "text": [
      "1\n"
     ]
    }
   ],
   "source": [
    "print(1)"
   ]
  },
  {
   "cell_type": "code",
   "execution_count": 77,
   "id": "34f6ff66-1857-4707-aa46-ace17bfb5294",
   "metadata": {},
   "outputs": [
    {
     "name": "stdout",
     "output_type": "stream",
     "text": [
      "chr1\t3176534\t3176535\t1\n",
      "chr1\t3196256\t3196257\t1\n",
      "chr1\t3221526\t3221527\t1\n",
      "chr1\t3221542\t3221543\t2\n",
      "chr1\t3221545\t3221546\t3\n",
      "chr1\t3221546\t3221547\t2\n",
      "chr1\t3221548\t3221550\t1\n",
      "chr1\t3221571\t3221572\t1\n",
      "chr1\t3221897\t3221898\t1\n",
      "chr1\t3221994\t3221995\t1\n"
     ]
    }
   ],
   "source": [
    "!bedtools genomecov -ibam /data1/projects/2021_MOPA/bioinfo/binfo1-datapack1/filtered-RPF-siLuc.bam -bg -5 > /data1/projects/2021_MOPA/bioinfo/binfo1-datapack1//fivepcounts-RPF-siLuc.bed\n",
    "!head /data1/projects/2021_MOPA/bioinfo/binfo1-datapack1/fivepcounts-RPF-siLuc.bed"
   ]
  },
  {
   "cell_type": "code",
   "execution_count": 81,
   "id": "5743741b-ebc9-46e7-a40a-dcb36bc8c5cf",
   "metadata": {},
   "outputs": [
    {
     "name": "stdout",
     "output_type": "stream",
     "text": [
      "chr1\t3123359\t3123360\t1\n",
      "chr1\t3124284\t3124285\t1\n",
      "chr1\t3188296\t3188297\t1\n",
      "chr1\t3221546\t3221547\t1\n",
      "chr1\t3221549\t3221550\t2\n",
      "chr1\t3221868\t3221869\t1\n",
      "chr1\t3222153\t3222154\t1\n",
      "chr1\t3222413\t3222415\t1\n",
      "chr1\t3222638\t3222639\t1\n",
      "chr1\t3224556\t3224557\t1\n"
     ]
    }
   ],
   "source": [
    "!bedtools genomecov -ibam /data1/projects/2021_MOPA/bioinfo/binfo1-datapack1/filtered-RPF-siLin28a.bam -bg -5 > /data1/projects/2021_MOPA/bioinfo/binfo1-datapack1/fivepcounts-RPF-siLin28a.bed\n",
    "!head /data1/projects/2021_MOPA/bioinfo/binfo1-datapack1/fivepcounts-RPF-siLin28a.bed\n"
   ]
  },
  {
   "cell_type": "code",
   "execution_count": null,
   "id": "db04580e-9112-4914-995e-e8be18c76708",
   "metadata": {},
   "outputs": [],
   "source": [
    "!bedtools intersect -a ../rpf/fivepcounts-RPF-siLuc.bed -b ../rpf/gencode-exons-containing-startcodon.bed \\\n",
    " -wa -wb -nonamecheck > ../rpf/fivepcounts-filtered-RPF-siLuc.txt\n",
    "!head ../rpf/fivepcounts-filtered-RPF-siLuc.txt"
   ]
  },
  {
   "cell_type": "code",
   "execution_count": 87,
   "id": "42fcd7b8-f6f5-4f0f-b765-7a4e9ca04d7d",
   "metadata": {},
   "outputs": [
    {
     "name": "stdout",
     "output_type": "stream",
     "text": [
      "chr1\t4878010\t4878205\tENSMUST00000134384.8\t4878136\t+\n",
      "chr1\t4878045\t4878205\tENSMUST00000027036.11\t4878136\t+\n",
      "chr1\t4878052\t4878205\tENSMUST00000150971.8\t4878136\t+\n",
      "chr1\t4928036\t4928199\tENSMUST00000081551.14\t4928136\t+\n",
      "chr1\t5154639\t5154786\tENSMUST00000044369.13\t5154673\t+\n",
      "chr1\t5659227\t5659528\tENSMUST00000027038.11\t5659271\t+\n",
      "chr1\t5659257\t5659528\tENSMUST00000160777.8\t5659271\t+\n",
      "chr1\t6300182\t6300297\tENSMUST00000027040.13\t6300226\t+\n",
      "chr1\t6429441\t6429738\tENSMUST00000133144.4\t6429554\t+\n",
      "chr1\t6839121\t6839176\tENSMUST00000043578.13\t6839121\t+\n"
     ]
    }
   ],
   "source": [
    "!head /data1/projects/2021_MOPA/bioinfo/binfo1-datapack1/gencode-exons-containing-startcodon.bed"
   ]
  },
  {
   "cell_type": "code",
   "execution_count": 88,
   "id": "d47b9a02-2607-41a4-ad3b-d82348407690",
   "metadata": {
    "tags": []
   },
   "outputs": [
    {
     "name": "stdout",
     "output_type": "stream",
     "text": [
      "chr1\t4878048\t4878049\t1\tchr1\t4878010\t4878205\tENSMUST00000134384.8\t4878136\t+\n",
      "chr1\t4878048\t4878049\t1\tchr1\t4878045\t4878205\tENSMUST00000027036.11\t4878136\t+\n",
      "chr1\t4878077\t4878078\t1\tchr1\t4878010\t4878205\tENSMUST00000134384.8\t4878136\t+\n",
      "chr1\t4878077\t4878078\t1\tchr1\t4878045\t4878205\tENSMUST00000027036.11\t4878136\t+\n",
      "chr1\t4878077\t4878078\t1\tchr1\t4878052\t4878205\tENSMUST00000150971.8\t4878136\t+\n",
      "chr1\t4878101\t4878102\t4\tchr1\t4878010\t4878205\tENSMUST00000134384.8\t4878136\t+\n",
      "chr1\t4878101\t4878102\t4\tchr1\t4878045\t4878205\tENSMUST00000027036.11\t4878136\t+\n",
      "chr1\t4878101\t4878102\t4\tchr1\t4878052\t4878205\tENSMUST00000150971.8\t4878136\t+\n",
      "chr1\t4878103\t4878104\t1\tchr1\t4878010\t4878205\tENSMUST00000134384.8\t4878136\t+\n",
      "chr1\t4878103\t4878104\t1\tchr1\t4878045\t4878205\tENSMUST00000027036.11\t4878136\t+\n"
     ]
    }
   ],
   "source": [
    "!bedtools intersect -a /data1/projects/2021_MOPA/bioinfo/binfo1-datapack1/fivepcounts-RPF-siLuc.bed -b /data1/projects/2021_MOPA/bioinfo/binfo1-datapack1/gencode-exons-containing-startcodon.bed \\\n",
    " -wa -wb -nonamecheck > /data1/projects/2021_MOPA/bioinfo/binfo1-datapack1/fivepcounts-filtered-RPF-siLuc.txt\n",
    "!head /data1/projects/2021_MOPA/bioinfo/binfo1-datapack1//fivepcounts-filtered-RPF-siLuc.txt"
   ]
  },
  {
   "cell_type": "code",
   "execution_count": 89,
   "id": "73846f8b-560e-4387-b536-a97ec302eda3",
   "metadata": {},
   "outputs": [
    {
     "name": "stdout",
     "output_type": "stream",
     "text": [
      "chr1\t4878043\t4878044\t1\tchr1\t4878010\t4878205\tENSMUST00000134384.8\t4878136\t+\n",
      "chr1\t4878056\t4878057\t3\tchr1\t4878010\t4878205\tENSMUST00000134384.8\t4878136\t+\n",
      "chr1\t4878056\t4878057\t3\tchr1\t4878045\t4878205\tENSMUST00000027036.11\t4878136\t+\n",
      "chr1\t4878056\t4878057\t3\tchr1\t4878052\t4878205\tENSMUST00000150971.8\t4878136\t+\n",
      "chr1\t4878074\t4878075\t1\tchr1\t4878010\t4878205\tENSMUST00000134384.8\t4878136\t+\n",
      "chr1\t4878074\t4878075\t1\tchr1\t4878045\t4878205\tENSMUST00000027036.11\t4878136\t+\n",
      "chr1\t4878074\t4878075\t1\tchr1\t4878052\t4878205\tENSMUST00000150971.8\t4878136\t+\n",
      "chr1\t4878089\t4878090\t1\tchr1\t4878010\t4878205\tENSMUST00000134384.8\t4878136\t+\n",
      "chr1\t4878089\t4878090\t1\tchr1\t4878045\t4878205\tENSMUST00000027036.11\t4878136\t+\n",
      "chr1\t4878089\t4878090\t1\tchr1\t4878052\t4878205\tENSMUST00000150971.8\t4878136\t+\n"
     ]
    }
   ],
   "source": [
    "!bedtools intersect -a /data1/projects/2021_MOPA/bioinfo/binfo1-datapack1/fivepcounts-RPF-siLin28a.bed -b /data1/projects/2021_MOPA/bioinfo/binfo1-datapack1/gencode-exons-containing-startcodon.bed \\\n",
    " -wa -wb -nonamecheck > /data1/projects/2021_MOPA/bioinfo/binfo1-datapack1/fivepcounts-filtered-RPF-siLin28a.txt\n",
    "!head /data1/projects/2021_MOPA/bioinfo/binfo1-datapack1//fivepcounts-filtered-RPF-siLin28a.txt"
   ]
  },
  {
   "cell_type": "code",
   "execution_count": 90,
   "id": "3eb9809f-c46e-49fd-afe4-4c16baff9d8a",
   "metadata": {},
   "outputs": [
    {
     "data": {
      "text/html": [
       "<div>\n",
       "<style scoped>\n",
       "    .dataframe tbody tr th:only-of-type {\n",
       "        vertical-align: middle;\n",
       "    }\n",
       "\n",
       "    .dataframe tbody tr th {\n",
       "        vertical-align: top;\n",
       "    }\n",
       "\n",
       "    .dataframe thead th {\n",
       "        text-align: right;\n",
       "    }\n",
       "</style>\n",
       "<table border=\"1\" class=\"dataframe\">\n",
       "  <thead>\n",
       "    <tr style=\"text-align: right;\">\n",
       "      <th></th>\n",
       "      <th>pChrom</th>\n",
       "      <th>pChromStart</th>\n",
       "      <th>pChromEnd</th>\n",
       "      <th>pCov</th>\n",
       "      <th>rChrom</th>\n",
       "      <th>rChromStart</th>\n",
       "      <th>rChromEnd</th>\n",
       "      <th>rName</th>\n",
       "      <th>rCdsStart</th>\n",
       "      <th>rStrand</th>\n",
       "    </tr>\n",
       "  </thead>\n",
       "  <tbody>\n",
       "    <tr>\n",
       "      <th>0</th>\n",
       "      <td>chr1</td>\n",
       "      <td>4878048</td>\n",
       "      <td>4878049</td>\n",
       "      <td>1</td>\n",
       "      <td>chr1</td>\n",
       "      <td>4878010</td>\n",
       "      <td>4878205</td>\n",
       "      <td>ENSMUST00000134384.8</td>\n",
       "      <td>4878136</td>\n",
       "      <td>+</td>\n",
       "    </tr>\n",
       "    <tr>\n",
       "      <th>1</th>\n",
       "      <td>chr1</td>\n",
       "      <td>4878048</td>\n",
       "      <td>4878049</td>\n",
       "      <td>1</td>\n",
       "      <td>chr1</td>\n",
       "      <td>4878045</td>\n",
       "      <td>4878205</td>\n",
       "      <td>ENSMUST00000027036.11</td>\n",
       "      <td>4878136</td>\n",
       "      <td>+</td>\n",
       "    </tr>\n",
       "    <tr>\n",
       "      <th>2</th>\n",
       "      <td>chr1</td>\n",
       "      <td>4878077</td>\n",
       "      <td>4878078</td>\n",
       "      <td>1</td>\n",
       "      <td>chr1</td>\n",
       "      <td>4878010</td>\n",
       "      <td>4878205</td>\n",
       "      <td>ENSMUST00000134384.8</td>\n",
       "      <td>4878136</td>\n",
       "      <td>+</td>\n",
       "    </tr>\n",
       "    <tr>\n",
       "      <th>3</th>\n",
       "      <td>chr1</td>\n",
       "      <td>4878077</td>\n",
       "      <td>4878078</td>\n",
       "      <td>1</td>\n",
       "      <td>chr1</td>\n",
       "      <td>4878045</td>\n",
       "      <td>4878205</td>\n",
       "      <td>ENSMUST00000027036.11</td>\n",
       "      <td>4878136</td>\n",
       "      <td>+</td>\n",
       "    </tr>\n",
       "    <tr>\n",
       "      <th>4</th>\n",
       "      <td>chr1</td>\n",
       "      <td>4878077</td>\n",
       "      <td>4878078</td>\n",
       "      <td>1</td>\n",
       "      <td>chr1</td>\n",
       "      <td>4878052</td>\n",
       "      <td>4878205</td>\n",
       "      <td>ENSMUST00000150971.8</td>\n",
       "      <td>4878136</td>\n",
       "      <td>+</td>\n",
       "    </tr>\n",
       "    <tr>\n",
       "      <th>...</th>\n",
       "      <td>...</td>\n",
       "      <td>...</td>\n",
       "      <td>...</td>\n",
       "      <td>...</td>\n",
       "      <td>...</td>\n",
       "      <td>...</td>\n",
       "      <td>...</td>\n",
       "      <td>...</td>\n",
       "      <td>...</td>\n",
       "      <td>...</td>\n",
       "    </tr>\n",
       "    <tr>\n",
       "      <th>340494</th>\n",
       "      <td>chrY</td>\n",
       "      <td>87129502</td>\n",
       "      <td>87129503</td>\n",
       "      <td>1</td>\n",
       "      <td>chrY</td>\n",
       "      <td>87129500</td>\n",
       "      <td>87129632</td>\n",
       "      <td>ENSMUST00000189543.7</td>\n",
       "      <td>87129514</td>\n",
       "      <td>+</td>\n",
       "    </tr>\n",
       "    <tr>\n",
       "      <th>340495</th>\n",
       "      <td>chrY</td>\n",
       "      <td>87129574</td>\n",
       "      <td>87129575</td>\n",
       "      <td>1</td>\n",
       "      <td>chrY</td>\n",
       "      <td>87129500</td>\n",
       "      <td>87129632</td>\n",
       "      <td>ENSMUST00000189543.7</td>\n",
       "      <td>87129514</td>\n",
       "      <td>+</td>\n",
       "    </tr>\n",
       "    <tr>\n",
       "      <th>340496</th>\n",
       "      <td>chrY</td>\n",
       "      <td>87563721</td>\n",
       "      <td>87563722</td>\n",
       "      <td>1</td>\n",
       "      <td>chrY</td>\n",
       "      <td>87563647</td>\n",
       "      <td>87563779</td>\n",
       "      <td>ENSMUST00000186493.2</td>\n",
       "      <td>87563661</td>\n",
       "      <td>+</td>\n",
       "    </tr>\n",
       "    <tr>\n",
       "      <th>340497</th>\n",
       "      <td>chrY</td>\n",
       "      <td>88065994</td>\n",
       "      <td>88065995</td>\n",
       "      <td>1</td>\n",
       "      <td>chrY</td>\n",
       "      <td>88065992</td>\n",
       "      <td>88066124</td>\n",
       "      <td>ENSMUST00000187146.2</td>\n",
       "      <td>88066006</td>\n",
       "      <td>+</td>\n",
       "    </tr>\n",
       "    <tr>\n",
       "      <th>340498</th>\n",
       "      <td>chrY</td>\n",
       "      <td>88066066</td>\n",
       "      <td>88066067</td>\n",
       "      <td>1</td>\n",
       "      <td>chrY</td>\n",
       "      <td>88065992</td>\n",
       "      <td>88066124</td>\n",
       "      <td>ENSMUST00000187146.2</td>\n",
       "      <td>88066006</td>\n",
       "      <td>+</td>\n",
       "    </tr>\n",
       "  </tbody>\n",
       "</table>\n",
       "<p>340499 rows × 10 columns</p>\n",
       "</div>"
      ],
      "text/plain": [
       "       pChrom  pChromStart  pChromEnd  pCov rChrom  rChromStart  rChromEnd  \\\n",
       "0        chr1      4878048    4878049     1   chr1      4878010    4878205   \n",
       "1        chr1      4878048    4878049     1   chr1      4878045    4878205   \n",
       "2        chr1      4878077    4878078     1   chr1      4878010    4878205   \n",
       "3        chr1      4878077    4878078     1   chr1      4878045    4878205   \n",
       "4        chr1      4878077    4878078     1   chr1      4878052    4878205   \n",
       "...       ...          ...        ...   ...    ...          ...        ...   \n",
       "340494   chrY     87129502   87129503     1   chrY     87129500   87129632   \n",
       "340495   chrY     87129574   87129575     1   chrY     87129500   87129632   \n",
       "340496   chrY     87563721   87563722     1   chrY     87563647   87563779   \n",
       "340497   chrY     88065994   88065995     1   chrY     88065992   88066124   \n",
       "340498   chrY     88066066   88066067     1   chrY     88065992   88066124   \n",
       "\n",
       "                        rName  rCdsStart rStrand  \n",
       "0        ENSMUST00000134384.8    4878136       +  \n",
       "1       ENSMUST00000027036.11    4878136       +  \n",
       "2        ENSMUST00000134384.8    4878136       +  \n",
       "3       ENSMUST00000027036.11    4878136       +  \n",
       "4        ENSMUST00000150971.8    4878136       +  \n",
       "...                       ...        ...     ...  \n",
       "340494   ENSMUST00000189543.7   87129514       +  \n",
       "340495   ENSMUST00000189543.7   87129514       +  \n",
       "340496   ENSMUST00000186493.2   87563661       +  \n",
       "340497   ENSMUST00000187146.2   88066006       +  \n",
       "340498   ENSMUST00000187146.2   88066006       +  \n",
       "\n",
       "[340499 rows x 10 columns]"
      ]
     },
     "execution_count": 90,
     "metadata": {},
     "output_type": "execute_result"
    }
   ],
   "source": [
    "import pandas as pd\n",
    "from matplotlib import pyplot as plt\n",
    "dfLuc = pd.read_table(\n",
    "    '/data1/projects/2021_MOPA/bioinfo/binfo1-datapack1/fivepcounts-filtered-RPF-siLuc.txt', header=None, \n",
    "    names=[\n",
    "        'pChrom', 'pChromStart', 'pChromEnd', 'pCov', \n",
    "        'rChrom', 'rChromStart', 'rChromEnd', 'rName', 'rCdsStart', 'rStrand'\n",
    "    ]\n",
    ")\n",
    "dfLuc"
   ]
  },
  {
   "cell_type": "code",
   "execution_count": 159,
   "id": "593e62d3-5a9e-4642-8b63-076c7c690e7b",
   "metadata": {},
   "outputs": [],
   "source": [
    "import pandas as pd\n",
    "seLucCov = pd.read_table('/data1/projects/2021_MOPA/bioinfo/binfo1-datapack1/fivepcounts-filtered-RPF-siLin28a.txt',\n",
    "    names=['pChr', 'pStart', 'pEnd', 'cov','rChr', 'rStart', 'rEnd', 'geneName', 'Start', 'Strand'],header=None)\n",
    "dfLin28a = pd.read_table('/data1/projects/2021_MOPA/bioinfo/binfo1-datapack1/fivepcounts-filtered-RPF-siLin28a.txt',\n",
    "    names=['pChr', 'pStart', 'pEnd', 'cov','rChr', 'rStart', 'rEnd', 'geneName', 'Start', 'Strand'],header=None)"
   ]
  },
  {
   "cell_type": "code",
   "execution_count": 160,
   "id": "d310c0d2-3c77-4754-985e-6ec9e3822ccf",
   "metadata": {},
   "outputs": [],
   "source": [
    "seLucCov['Pos']=seLucCov['pStart']-seLucCov['Start']\n",
    "dfLin28a['Pos']=dfLin28a['pStart']-dfLin28a['Start']"
   ]
  },
  {
   "cell_type": "code",
   "execution_count": 161,
   "id": "ad673761-5d95-427e-953b-d2f68736cccd",
   "metadata": {
    "tags": []
   },
   "outputs": [],
   "source": [
    "seLucCov=seLucCov[(seLucCov['Pos']<50) & (seLucCov['Pos']>-50)].groupby('Pos').sum()['cov']\n",
    "dfLin28a=dfLin28a[(dfLin28a['Pos']<50) & (dfLin28a['Pos']>-50)].groupby('Pos').sum()['cov']"
   ]
  },
  {
   "cell_type": "code",
   "execution_count": 180,
   "id": "898d8e0a-3bfb-4c41-884e-b5c217d0c2c3",
   "metadata": {
    "tags": []
   },
   "outputs": [
    {
     "data": {
      "image/png": "[encoded data removed]",
      "text/plain": [
       "<Figure size 720x432 with 2 Axes>"
      ]
     },
     "metadata": {
      "needs_background": "light"
     },
     "output_type": "display_data"
    }
   ],
   "source": [
    "fig, axes = plt.subplots(2, 1, figsize=(10, 6))\n",
    "\n",
    "for i, (se,Lin) in enumerate(zip([seLucCov, seLin28aCov], ['siLuc', 'siLin28a'])):\n",
    "    \n",
    "    axes[i].axvline(0, color='r', zorder=5)\n",
    "    axes[i].bar(x=se.index,height=se.div(1000))\n",
    "    axes[i].set_xlim(-50, 52)\n",
    "    axes[i].set_ylim(0, 122)\n",
    "    \n",
    "    axes[i].set_yticks(range(0, 122, 40))\n",
    "    axes[i].set_yticklabels(labels=range(0, 122, 40), fontsize=10)\n",
    "    axes[i].set_xticks(range(-50, 52, 10))\n",
    "    axes[i].set_xticklabels(labels=range(-50, 52, 10), rotation=90, fontsize=10)\n",
    "    axes[i].set_xlabel('Relative position to start codon of 5′-end of reads', fontsize=16)\n",
    "    axes[i].set_ylabel(f'{Lin}\\nRaw read count\\n(x1000)', fontsize=12)"
   ]
  },
  {
   "cell_type": "code",
   "execution_count": null,
   "id": "3053fdc5-0e01-437e-ae2c-9821b972dcef",
   "metadata": {},
   "outputs": [],
   "source": []
  }
 ],
 "metadata": {
  "kernelspec": {
   "display_name": "Python 3 (ipykernel)",
   "language": "python",
   "name": "python3"
  },
  "language_info": {
   "codemirror_mode": {
    "name": "ipython",
    "version": 3
   },
   "file_extension": ".py",
   "mimetype": "text/x-python",
   "name": "python",
   "nbconvert_exporter": "python",
   "pygments_lexer": "ipython3",
   "version": "3.8.13"
  }
 },
 "nbformat": 4,
 "nbformat_minor": 5
}
