{
 "cells": [
  {
   "cell_type": "code",
   "execution_count": null,
   "id": "1d54ba76-0f46-45a8-8d06-f25cf822e1e8",
   "metadata": {},
   "outputs": [],
   "source": [
    "from collections import Counter, defaultdict\n",
    "import math\n",
    "import os\n",
    "import sys\n",
    "import pickle\n",
    "import time\n",
    "\n",
    "import numpy as np\n",
    "import pandas as pd\n",
    "from matplotlib import pyplot as plt\n",
    "import seaborn as sns\n",
    "from scipy import stats\n",
    "import pysam"
   ]
  },
  {
   "cell_type": "code",
   "execution_count": null,
   "id": "50d65ab0-f89e-422d-8cc0-894a471de37b",
   "metadata": {},
   "outputs": [],
   "source": [
    "BINDING_=\"/data1/projects//2021_MOPA/bioinfo/binfo1-datapack1/CLIP-35L33G.bam\"\n",
    "Fa_list = os.listdir('/data1/projects//2021_MOPA/bioinfo/ref/')\n",
    "Fa_dict = {}\n",
    "for fa in Fa_list:\n",
    "    chrID = fa.split('.')[0]\n",
    "    Fa_dict[chrID] = fa"
   ]
  },
  {
   "cell_type": "code",
   "execution_count": null,
   "id": "d8c94328-a14e-4879-92fb-65030fc1da70",
   "metadata": {},
   "outputs": [],
   "source": [
    "def_file = Counter()\n",
    "for ID, file in Fa_dict.items():\n",
    "    ## getting position in Reference Fasta\n",
    "    pileup = pysam.AlignmentFile(\"/data1/projects//2021_MOPA/bioinfo/binfo1-datapack1/CLIP-35L33G.bam\").pileup(ID)\n",
    "    list_position=list()\n",
    "    for i in pileup:\n",
    "        bases = i.get_query_sequences()\n",
    "        bases_v2=list()\n",
    "        for b in bases:\n",
    "            bases_v2.append(b.upper())\n",
    "        ### Calculating Entropy Scores\n",
    "        if len(bases)>49:\n",
    "            score = stats.entropy(list(Counter(bases).values()), base=2)\n",
    "            if score >=0.95:\n",
    "                list_position.append(i.reference_pos)\n",
    "        with open(\"/data1/projects//2021_MOPA/bioinfo/ref//\"+file,'rt') as fp:\n",
    "            assert next(fp).startswith('>')\n",
    "            seq = fp.read().strip().replace('\\n', '').upper()\n",
    "        for postion in list_position:\n",
    "            def_file.updata(seq[position-9:position+9])"
   ]
  },
  {
   "cell_type": "code",
   "execution_count": null,
   "id": "9ed8b3b7-1a5f-403f-a8a0-b6f26388c8ed",
   "metadata": {},
   "outputs": [],
   "source": [
    "def_file = Counter()\n",
    "for ID, file in Fa_dict.items():\n",
    "    ## getting position in Reference Fasta\n",
    "    pileup = pysam.AlignmentFile(\"/data1/projects//2021_MOPA/bioinfo/binfo1-datapack1/CLIP-35L33G.bam\").pileup(ID)\n",
    "    list_position=list()\n",
    "    for i in pileup:\n",
    "        bases = i.get_query_sequences()\n",
    "        bases_v2=list()\n",
    "        for b in bases:\n",
    "            bases_v2.append(b.upper())\n",
    "        ### Calculating Entropy Scores\n",
    "        if len(bases)>49:\n",
    "            score = stats.entropy(list(Counter(bases).values()), base=2)\n",
    "            if score >=0.95:\n",
    "                list_position.append(i.reference_pos)\n",
    "        with open(\"/data1/projects//2021_MOPA/bioinfo/ref//\"+file,'rt') as fp:\n",
    "            assert next(fp).startswith('>')\n",
    "            seq = fp.read().strip().replace('\\n', '').upper()\n",
    "        for postion in list_position:\n",
    "            def_file.updata(seq[position-9:position+9])"
   ]
  },
  {
   "cell_type": "markdown",
   "id": "138423ba-54c1-482e-ba34-371d901be419",
   "metadata": {},
   "source": [
    "## WEBLOGO in internet"
   ]
  },
  {
   "cell_type": "code",
   "execution_count": null,
   "id": "0620d314-5f3d-4824-99a1-e4efd07a8e2e",
   "metadata": {},
   "outputs": [],
   "source": []
  }
 ],
 "metadata": {
  "kernelspec": {
   "display_name": "Python 3 (ipykernel)",
   "language": "python",
   "name": "python3"
  },
  "language_info": {
   "codemirror_mode": {
    "name": "ipython",
    "version": 3
   },
   "file_extension": ".py",
   "mimetype": "text/x-python",
   "name": "python",
   "nbconvert_exporter": "python",
   "pygments_lexer": "ipython3",
   "version": "3.8.13"
  }
 },
 "nbformat": 4,
 "nbformat_minor": 5
}
