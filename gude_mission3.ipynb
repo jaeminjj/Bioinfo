{
 "cells": [
  {
   "cell_type": "code",
   "execution_count": 1,
   "id": "fdc47ef9-6fc1-4bd8-bb7a-0dfa23206b02",
   "metadata": {},
   "outputs": [
    {
     "name": "stdout",
     "output_type": "stream",
     "text": [
      "chr9\tENSEMBL\tgene\t106056039\t106056126\t.\t+\t.\tgene_id \"ENSMUSG00000065440.3\"; gene_type \"miRNA\"; gene_name \"Mirlet7g\"; level 3; mgi_id \"MGI:2676800\";\n",
      "chr9\tENSEMBL\ttranscript\t106056039\t106056126\t.\t+\t.\tgene_id \"ENSMUSG00000065440.3\"; transcript_id \"ENSMUST00000083506.3\"; gene_type \"miRNA\"; gene_name \"Mirlet7g\"; transcript_type \"miRNA\"; transcript_name \"Mirlet7g-201\"; level 3; transcript_support_level \"NA\"; mgi_id \"MGI:2676800\"; tag \"basic\";\n",
      "chr9\tENSEMBL\texon\t106056039\t106056126\t.\t+\t.\tgene_id \"ENSMUSG00000065440.3\"; transcript_id \"ENSMUST00000083506.3\"; gene_type \"miRNA\"; gene_name \"Mirlet7g\"; transcript_type \"miRNA\"; transcript_name \"Mirlet7g-201\"; exon_number 1; exon_id \"ENSMUSE00000522665.2\"; level 3; transcript_support_level \"NA\"; mgi_id \"MGI:2676800\"; tag \"basic\";\n"
     ]
    }
   ],
   "source": [
    "!grep -i mirlet7g /data1/projects//2021_MOPA/bioinfo/binfo1-datapack1/gencode.gtf"
   ]
  },
  {
   "cell_type": "code",
   "execution_count": 3,
   "id": "0ad7b4d0-7d83-47b0-9ecf-134ca1ce3305",
   "metadata": {},
   "outputs": [
    {
     "name": "stdout",
     "output_type": "stream",
     "text": [
      "[E::hts_open_format] Failed to open file \"CLIP-35L33G.bam\" : No such file or directory\n",
      "samtools view: failed to open \"CLIP-35L33G.bam\" for reading: No such file or directory\n",
      "[E::hts_open_format] Failed to open file \"/data1/projects//2021_MOPA/bioinfo/binfo1-datapack1/CLIP-let7g.bam\" : No such file or directory\n",
      "samtools view: failed to open \"/data1/projects//2021_MOPA/bioinfo/binfo1-datapack1/CLIP-let7g.bam\" for reading: No such file or directory\n",
      "0\n"
     ]
    }
   ],
   "source": [
    "!samtools view -b -o /data1/projects//2021_MOPA/bioinfo/binfo1-datapack1/CLIP-let7g.bam /data1/projects//2021_MOPA/bioinfo/binfo1-datapack1/CLIP-35L33G.bam chr9:106056039-106056126\n",
    "!samtools view /data1/projects//2021_MOPA/bioinfo/binfo1-datapack1/CLIP-let7g.bam | wc -l"
   ]
  },
  {
   "cell_type": "code",
   "execution_count": 6,
   "id": "2276de74-d538-4ea6-b8a4-215eeb9d91b0",
   "metadata": {},
   "outputs": [
    {
     "name": "stdout",
     "output_type": "stream",
     "text": [
      "163\n"
     ]
    }
   ],
   "source": [
    "!samtools view -b -o /data1/projects//2021_MOPA/bioinfo/binfo1-datapack1/CLIP-let7g.bam /data1/projects//2021_MOPA/bioinfo/binfo1-datapack1/CLIP-35L33G.bam chr9:106056039-106056126\n",
    "!samtools view /data1/projects//2021_MOPA/bioinfo/binfo1-datapack1/CLIP-let7g.bam | wc -l"
   ]
  },
  {
   "cell_type": "code",
   "execution_count": 7,
   "id": "d753edc4-0b21-498a-bc77-0b5b78f05280",
   "metadata": {},
   "outputs": [
    {
     "name": "stdout",
     "output_type": "stream",
     "text": [
      "[mpileup] 1 samples in 1 input files\n",
      "68548 /data1/projects//2021_MOPA/bioinfo/binfo1-datapack1/CLIP-let7g.pileup\n"
     ]
    }
   ],
   "source": [
    "!samtools mpileup /data1/projects//2021_MOPA/bioinfo/binfo1-datapack1/CLIP-let7g.bam > /data1/projects//2021_MOPA/bioinfo/binfo1-datapack1/CLIP-let7g.pileup\n",
    "!wc -l /data1/projects//2021_MOPA/bioinfo/binfo1-datapack1/CLIP-let7g.pileup"
   ]
  },
  {
   "cell_type": "code",
   "execution_count": 9,
   "id": "691b482f-ee8a-4442-b454-7ea313d36676",
   "metadata": {},
   "outputs": [
    {
     "name": "stdout",
     "output_type": "stream",
     "text": [
      "chr9\t106056117\tN\t138\t<<<<<<<<<CCCCCCCCCCCCCCCCCCCCCCCCCCCCCCCCCCCCCCCCCCCCCCCCCCCCCCCCCCCCCCCCCCCCCCCCCCCCCCCCCCCCCCCCCCCCCCCCCCCCCCCCCCCCCCCCCCCCCCCCCCCCCCCCC\tBHEIG?DIIHGHII:;HGIIDGGGIIBGEB?>H<GGIIIIDIIGFHIHH9IGG=GGHIDH?DGIBIIHHGGIEIGI8GIDHDG.GGHEDIIDIDGDHIDGIFGHG;DCDDHEE@I?CGG:IHGIBGIHIIDG@DHIGG\n",
      "chr9\t106056118\tN\t139\t<<<<<<<<<CCCCCCCCCCCCCCCCCCCCCCCCCCCCCCCCCCCCCCCCCCCCCCCCCCCCCCCCCCCCCCCCCCCCCCCCCCCCCCCCCCCCCCCCCCCCCCCCCCCCCCCCCCCCCCCCCCCCCCCCCCCCCCCCCC\tBHEIG?DIIHGHII3AHIIIDGGGIIB3EHFBH>GIIIIIIIIIHIIHHAIIGBDGHIDH?GIIGIIHHDIIHIGIGGI=BGG9GIHHHIIGI=IAIIGGIEHGIEBG@DHDE;IBDGG4IGGIGGIIIIGGGDGIH1G\n",
      "chr9\t106056119\tN\t138\t<<<<<<<<<TTTTTTTTTTTTTTTTTTTTTTTTTT$TTTT$TTTTTTTTTTTTTTT$TTTT$TTTTTTT$TTTTTTTTTTTTTTTTTTTTTTTTTTTTTTTTTTTTTTTTTTTTTTTTTTTTTTTTTTTTTTTTTTTTTTTTT\tBHEIG?DIIGEFII:/GIIEDDHDIIF>BH3<HBEGIHIGFIIIBIIBE:HHGD>EGGDH7BIIGGIHHDHIHDEIGEIDHGG;GIHGHHIGD:IGHD:GGEHH?3G87HD</I=DGG=IHHIHBIFII@<HDHHH1G\n",
      "chr9\t106056120\tN\t133\t<<<<<<<<<TTTTTTTTTTTTTTTTTTTTTTTTTTTT$TTTT$TTT$TTTTTTTTTT$TTTTTTTT$TTTTTTTTTTTT$T$TTTTTT$TTTT$TT$TTTTTTTTTTTTTTTTTTT$TTTTTTTTTTTTTTTTTTTTTTTTTTT\tBHEIG?DIIHFBII74BIIIGDIIIIA8DHECHBIIIIIIIIHIIHB?IDGGGFDH?GIIIIHH@GHHGEDDGIEHBEDIHHGIIGI:HBII8DIIHHIBDD;<HDD3HB?@G?HHIIHIIIIIB@HDHDH8G\n",
      "chr9\t106056121\tN\t118\t<<<<<<<<<GGGGGGGGGGGGGGGGGGGG$G$G$G$G$G$G$G$GGGGGG$GG$GGGG$GG$GGGG$G$GGG$GGG$GGG$GGGG$GGGGG$GGGGGGGGG$GGGGGG$GG$GGG$GGG$GGGG$G$GG$GGGGGG$GGGG$G$G$G$G$G$\tBHEIG?DIIB<EDI/7BHHFB<FGHI3?GG>HAIHIFEF@H<<2>D3EE;HBAIIIBH4IHG@DI>G482GGFHID:I9II@BH@>HE8@;<HGI:GGBIDEIBIGIIIE?G@EIH7G\n",
      "chr9\t106056122\tN\t88\t<<<<<<<<<C$C$C$C$C$C$C$C$C$C$C$C$C$CCCCCC$C$C$C$C$C$C$CCC$C$C$C$CC$C$CC$CC$C$C$C$C$C$C$C$C$C$C$C$C$C$CC$C$C$C$C$C$CC$CC$C$CCC$C$C$C$C$CCCCC$CCC$C\tBHEIG?DIIEEGIIC;GIHEGBIIIIB1=FII?FEIGGGHDBIG=HHIIEBHD>EIHIG=I:HGBIIEF?E;DB3HB<GIHIHHEADF\n",
      "chr9\t106056123\tN\t31\t<<<<<<<<<CCCCCCCCCCCCCCCCCCCCCC\tBHEIG?DIIIIII>GIGGIGGD>BIHHHIEH\n",
      "chr9\t106056124\tN\t31\t<<<<<<<<<AAAAAAAAAAAAAAAAAAAAAA\tBHEIG?DIIIIHIGGIGGGIG:9DDBIEGFH\n",
      "chr9\t106056125\tN\t31\t<<<<<<<<<GGGGGGGGGGGGGGGGGGGGGG\tBHEIG?DIIIIIIGGE@GFIGD;GIGIIFHD\n",
      "chr9\t106056126\tN\t30\t<<<<<<<<<GGGGGGGGGGGGGGGGGGGGG\tBHEIG?DIIIIGHGHIGHI>G;GGGIGIHG\n"
     ]
    }
   ],
   "source": [
    "!awk '$2 >= 106056039 && $2 <= 106056126 { print $0; }' /data1/projects//2021_MOPA/bioinfo/binfo1-datapack1/CLIP-let7g.pileup > /data1/projects//2021_MOPA/bioinfo/binfo1-datapack1/CLIP-let7g-gene.pileup\n",
    "!tail /data1/projects//2021_MOPA/bioinfo/binfo1-datapack1/CLIP-let7g-gene.pileup"
   ]
  },
  {
   "cell_type": "code",
   "execution_count": 10,
   "id": "e139ad63-487e-4955-90af-59d192d76a70",
   "metadata": {},
   "outputs": [
    {
     "data": {
      "text/html": [
       "<div>\n",
       "<style scoped>\n",
       "    .dataframe tbody tr th:only-of-type {\n",
       "        vertical-align: middle;\n",
       "    }\n",
       "\n",
       "    .dataframe tbody tr th {\n",
       "        vertical-align: top;\n",
       "    }\n",
       "\n",
       "    .dataframe thead th {\n",
       "        text-align: right;\n",
       "    }\n",
       "</style>\n",
       "<table border=\"1\" class=\"dataframe\">\n",
       "  <thead>\n",
       "    <tr style=\"text-align: right;\">\n",
       "      <th></th>\n",
       "      <th>chrom</th>\n",
       "      <th>pos</th>\n",
       "      <th>_ref</th>\n",
       "      <th>count</th>\n",
       "      <th>basereads</th>\n",
       "      <th>quals</th>\n",
       "    </tr>\n",
       "  </thead>\n",
       "  <tbody>\n",
       "    <tr>\n",
       "      <th>83</th>\n",
       "      <td>chr9</td>\n",
       "      <td>106056122</td>\n",
       "      <td>N</td>\n",
       "      <td>88</td>\n",
       "      <td>&lt;&lt;&lt;&lt;&lt;&lt;&lt;&lt;&lt;C$C$C$C$C$C$C$C$C$C$C$C$C$CCCCCC$C$C$...</td>\n",
       "      <td>BHEIG?DIIEEGIIC;GIHEGBIIIIB1=FII?FEIGGGHDBIG=H...</td>\n",
       "    </tr>\n",
       "    <tr>\n",
       "      <th>84</th>\n",
       "      <td>chr9</td>\n",
       "      <td>106056123</td>\n",
       "      <td>N</td>\n",
       "      <td>31</td>\n",
       "      <td>&lt;&lt;&lt;&lt;&lt;&lt;&lt;&lt;&lt;CCCCCCCCCCCCCCCCCCCCCC</td>\n",
       "      <td>BHEIG?DIIIIII&gt;GIGGIGGD&gt;BIHHHIEH</td>\n",
       "    </tr>\n",
       "    <tr>\n",
       "      <th>85</th>\n",
       "      <td>chr9</td>\n",
       "      <td>106056124</td>\n",
       "      <td>N</td>\n",
       "      <td>31</td>\n",
       "      <td>&lt;&lt;&lt;&lt;&lt;&lt;&lt;&lt;&lt;AAAAAAAAAAAAAAAAAAAAAA</td>\n",
       "      <td>BHEIG?DIIIIHIGGIGGGIG:9DDBIEGFH</td>\n",
       "    </tr>\n",
       "    <tr>\n",
       "      <th>86</th>\n",
       "      <td>chr9</td>\n",
       "      <td>106056125</td>\n",
       "      <td>N</td>\n",
       "      <td>31</td>\n",
       "      <td>&lt;&lt;&lt;&lt;&lt;&lt;&lt;&lt;&lt;GGGGGGGGGGGGGGGGGGGGGG</td>\n",
       "      <td>BHEIG?DIIIIIIGGE@GFIGD;GIGIIFHD</td>\n",
       "    </tr>\n",
       "    <tr>\n",
       "      <th>87</th>\n",
       "      <td>chr9</td>\n",
       "      <td>106056126</td>\n",
       "      <td>N</td>\n",
       "      <td>30</td>\n",
       "      <td>&lt;&lt;&lt;&lt;&lt;&lt;&lt;&lt;&lt;GGGGGGGGGGGGGGGGGGGGG</td>\n",
       "      <td>BHEIG?DIIIIGHGHIGHI&gt;G;GGGIGIHG</td>\n",
       "    </tr>\n",
       "  </tbody>\n",
       "</table>\n",
       "</div>"
      ],
      "text/plain": [
       "   chrom        pos _ref  count  \\\n",
       "83  chr9  106056122    N     88   \n",
       "84  chr9  106056123    N     31   \n",
       "85  chr9  106056124    N     31   \n",
       "86  chr9  106056125    N     31   \n",
       "87  chr9  106056126    N     30   \n",
       "\n",
       "                                            basereads  \\\n",
       "83  <<<<<<<<<C$C$C$C$C$C$C$C$C$C$C$C$C$CCCCCC$C$C$...   \n",
       "84                    <<<<<<<<<CCCCCCCCCCCCCCCCCCCCCC   \n",
       "85                    <<<<<<<<<AAAAAAAAAAAAAAAAAAAAAA   \n",
       "86                    <<<<<<<<<GGGGGGGGGGGGGGGGGGGGGG   \n",
       "87                     <<<<<<<<<GGGGGGGGGGGGGGGGGGGGG   \n",
       "\n",
       "                                                quals  \n",
       "83  BHEIG?DIIEEGIIC;GIHEGBIIIIB1=FII?FEIGGGHDBIG=H...  \n",
       "84                    BHEIG?DIIIIII>GIGGIGGD>BIHHHIEH  \n",
       "85                    BHEIG?DIIIIHIGGIGGGIG:9DDBIEGFH  \n",
       "86                    BHEIG?DIIIIIIGGE@GFIGD;GIGIIFHD  \n",
       "87                     BHEIG?DIIIIGHGHIGHI>G;GGGIGIHG  "
      ]
     },
     "execution_count": 10,
     "metadata": {},
     "output_type": "execute_result"
    }
   ],
   "source": [
    "import pandas as pd\n",
    "\n",
    "pileup = pd.read_csv('/data1/projects//2021_MOPA/bioinfo/binfo1-datapack1/CLIP-let7g-gene.pileup', sep='\\t', names=['chrom', 'pos', '_ref', 'count', 'basereads', 'quals'])\n",
    "pileup.tail()"
   ]
  },
  {
   "cell_type": "code",
   "execution_count": 11,
   "id": "9248c128-7ff7-4798-8e0e-658b2f19921b",
   "metadata": {},
   "outputs": [],
   "source": [
    "import re\n",
    "toremove = re.compile('[<>$*#^]')\n",
    "pileup['matches'] = pileup['basereads'].apply(lambda x: toremove.sub('', x))"
   ]
  },
  {
   "cell_type": "code",
   "execution_count": 12,
   "id": "925e3c4c-f44a-42ad-9514-114750204ec8",
   "metadata": {},
   "outputs": [
    {
     "data": {
      "text/plain": [
       "'GGGGGGAAAAAAAAGGGGGAAAAAAGCCGCAGGATGAGGTGATAAGGGAGGGGTGAAGGGCGGTGAAGGGGAAAAGAGAAAGAAAAATAAAGGGGGAGTGGGAGGAAGAAGAGAATA'"
      ]
     },
     "execution_count": 12,
     "metadata": {},
     "output_type": "execute_result"
    }
   ],
   "source": [
    "pileup[pileup['pos'] == 106056094].iloc[0]['matches']"
   ]
  },
  {
   "cell_type": "code",
   "execution_count": null,
   "id": "50b2b63e-81ef-4ab3-a1ce-000731cf360e",
   "metadata": {},
   "outputs": [],
   "source": []
  },
  {
   "cell_type": "code",
   "execution_count": 30,
   "id": "f6da6de0-73d7-479f-a508-5c7e9d3374f0",
   "metadata": {},
   "outputs": [],
   "source": [
    "from collections import Counter\n",
    "import numpy as np\n",
    "from scipy import stats\n",
    "\n",
    "def shannon_entropy(sBases):\n",
    "    arrFreqs        = np.array(list(Counter(sBases).values())) / sum(list(Counter(sBases).values()))\n",
    "    shannon_entropy = stats.entropy(arrFreqs, base=2)\n",
    "    return shannon_entropy"
   ]
  },
  {
   "cell_type": "code",
   "execution_count": 31,
   "id": "16d84eb0-a748-41b3-8059-86868b1279ec",
   "metadata": {},
   "outputs": [
    {
     "data": {
      "text/html": [
       "<div>\n",
       "<style scoped>\n",
       "    .dataframe tbody tr th:only-of-type {\n",
       "        vertical-align: middle;\n",
       "    }\n",
       "\n",
       "    .dataframe tbody tr th {\n",
       "        vertical-align: top;\n",
       "    }\n",
       "\n",
       "    .dataframe thead th {\n",
       "        text-align: right;\n",
       "    }\n",
       "</style>\n",
       "<table border=\"1\" class=\"dataframe\">\n",
       "  <thead>\n",
       "    <tr style=\"text-align: right;\">\n",
       "      <th></th>\n",
       "      <th>chrom</th>\n",
       "      <th>pos</th>\n",
       "      <th>_ref</th>\n",
       "      <th>count</th>\n",
       "      <th>basereads</th>\n",
       "      <th>quals</th>\n",
       "      <th>matches</th>\n",
       "      <th>entropy</th>\n",
       "      <th>start</th>\n",
       "    </tr>\n",
       "  </thead>\n",
       "  <tbody>\n",
       "    <tr>\n",
       "      <th>0</th>\n",
       "      <td>chr13</td>\n",
       "      <td>48691305</td>\n",
       "      <td>N</td>\n",
       "      <td>109</td>\n",
       "      <td>cccccccccccccccccccccccccccccccccccccccccccccc...</td>\n",
       "      <td>B?IBHBIGI&gt;GGHHH:IIHFGGIIIGHHIHIIBIG?IGBFIE&gt;@II...</td>\n",
       "      <td>cccccccccccccccccccccccccccccccccccccccccccccc...</td>\n",
       "      <td>0.660462</td>\n",
       "      <td>48691304</td>\n",
       "    </tr>\n",
       "    <tr>\n",
       "      <th>1</th>\n",
       "      <td>chr13</td>\n",
       "      <td>48691306</td>\n",
       "      <td>N</td>\n",
       "      <td>109</td>\n",
       "      <td>tttttttttttttttttttttttttttttttttttttttttttttt...</td>\n",
       "      <td>=GH0H=IBI&gt;IHHGH?IIIGGHBII@HHIGHIDIIIGDHIFGEIHG...</td>\n",
       "      <td>tttttttttttttttttttttttttttttttttttttttttttttt...</td>\n",
       "      <td>0.660462</td>\n",
       "      <td>48691305</td>\n",
       "    </tr>\n",
       "    <tr>\n",
       "      <th>2</th>\n",
       "      <td>chr13</td>\n",
       "      <td>48691307</td>\n",
       "      <td>N</td>\n",
       "      <td>109</td>\n",
       "      <td>cccccccccccccccccccccccccccccccccccccccccccccc...</td>\n",
       "      <td>;GIBH=IGIAEHH:H:IIIHEHIIIEIDHHIIGII:IIDBI&lt;&gt;GII...</td>\n",
       "      <td>cccccccccccccccccccccccccccccccccccccccccccccc...</td>\n",
       "      <td>0.660462</td>\n",
       "      <td>48691306</td>\n",
       "    </tr>\n",
       "    <tr>\n",
       "      <th>3</th>\n",
       "      <td>chr13</td>\n",
       "      <td>48691308</td>\n",
       "      <td>N</td>\n",
       "      <td>109</td>\n",
       "      <td>aaaaaaaaaaaaaaaaaaaaaaaaaaaaaaaaaaaaaaaaaaaaaa...</td>\n",
       "      <td>AGI?H6IGI?IHHHHBIIIHEHHIIGIHIIIIGII&lt;IIDFIEE&lt;II...</td>\n",
       "      <td>aaaaaaaaaaaaaaaaaaaaaaaaaaaaaaaaaaaaaaaaaaaaaa...</td>\n",
       "      <td>0.660462</td>\n",
       "      <td>48691307</td>\n",
       "    </tr>\n",
       "    <tr>\n",
       "      <th>4</th>\n",
       "      <td>chr13</td>\n",
       "      <td>48691309</td>\n",
       "      <td>N</td>\n",
       "      <td>109</td>\n",
       "      <td>gggggggggggggggggggggggggggggggggggggggggggggg...</td>\n",
       "      <td>&gt;EI&gt;F=IDGEIIHHGBIIIHHHIIIGIHHHIIDII:II5HIGG@II...</td>\n",
       "      <td>gggggggggggggggggggggggggggggggggggggggggggggg...</td>\n",
       "      <td>0.660462</td>\n",
       "      <td>48691308</td>\n",
       "    </tr>\n",
       "  </tbody>\n",
       "</table>\n",
       "</div>"
      ],
      "text/plain": [
       "   chrom       pos _ref  count  \\\n",
       "0  chr13  48691305    N    109   \n",
       "1  chr13  48691306    N    109   \n",
       "2  chr13  48691307    N    109   \n",
       "3  chr13  48691308    N    109   \n",
       "4  chr13  48691309    N    109   \n",
       "\n",
       "                                           basereads  \\\n",
       "0  cccccccccccccccccccccccccccccccccccccccccccccc...   \n",
       "1  tttttttttttttttttttttttttttttttttttttttttttttt...   \n",
       "2  cccccccccccccccccccccccccccccccccccccccccccccc...   \n",
       "3  aaaaaaaaaaaaaaaaaaaaaaaaaaaaaaaaaaaaaaaaaaaaaa...   \n",
       "4  gggggggggggggggggggggggggggggggggggggggggggggg...   \n",
       "\n",
       "                                               quals  \\\n",
       "0  B?IBHBIGI>GGHHH:IIHFGGIIIGHHIHIIBIG?IGBFIE>@II...   \n",
       "1  =GH0H=IBI>IHHGH?IIIGGHBII@HHIGHIDIIIGDHIFGEIHG...   \n",
       "2  ;GIBH=IGIAEHH:H:IIIHEHIIIEIDHHIIGII:IIDBI<>GII...   \n",
       "3  AGI?H6IGI?IHHHHBIIIHEHHIIGIHIIIIGII<IIDFIEE<II...   \n",
       "4  >EI>F=IDGEIIHHGBIIIHHHIIIGIHHHIIDII:II5HIGG@II...   \n",
       "\n",
       "                                             matches   entropy     start  \n",
       "0  cccccccccccccccccccccccccccccccccccccccccccccc...  0.660462  48691304  \n",
       "1  tttttttttttttttttttttttttttttttttttttttttttttt...  0.660462  48691305  \n",
       "2  cccccccccccccccccccccccccccccccccccccccccccccc...  0.660462  48691306  \n",
       "3  aaaaaaaaaaaaaaaaaaaaaaaaaaaaaaaaaaaaaaaaaaaaaa...  0.660462  48691307  \n",
       "4  gggggggggggggggggggggggggggggggggggggggggggggg...  0.660462  48691308  "
      ]
     },
     "execution_count": 31,
     "metadata": {},
     "output_type": "execute_result"
    }
   ],
   "source": [
    "pileup['entropy'] = shannon_entropy(pileup['entropy'])\n",
    "pileup['start'] = pileup.pos.sub(1)\n",
    "pileup.head()"
   ]
  },
  {
   "cell_type": "code",
   "execution_count": 32,
   "id": "0dcd2864-51ca-48d0-bd92-cc7853f8c09c",
   "metadata": {},
   "outputs": [
    {
     "data": {
      "text/html": [
       "<div>\n",
       "<style scoped>\n",
       "    .dataframe tbody tr th:only-of-type {\n",
       "        vertical-align: middle;\n",
       "    }\n",
       "\n",
       "    .dataframe tbody tr th {\n",
       "        vertical-align: top;\n",
       "    }\n",
       "\n",
       "    .dataframe thead th {\n",
       "        text-align: right;\n",
       "    }\n",
       "</style>\n",
       "<table border=\"1\" class=\"dataframe\">\n",
       "  <thead>\n",
       "    <tr style=\"text-align: right;\">\n",
       "      <th></th>\n",
       "      <th>chrom</th>\n",
       "      <th>start</th>\n",
       "      <th>pos</th>\n",
       "      <th>entropy</th>\n",
       "    </tr>\n",
       "  </thead>\n",
       "  <tbody>\n",
       "    <tr>\n",
       "      <th>0</th>\n",
       "      <td>chr13</td>\n",
       "      <td>48691304</td>\n",
       "      <td>48691305</td>\n",
       "      <td>0.660462</td>\n",
       "    </tr>\n",
       "    <tr>\n",
       "      <th>1</th>\n",
       "      <td>chr13</td>\n",
       "      <td>48691305</td>\n",
       "      <td>48691306</td>\n",
       "      <td>0.660462</td>\n",
       "    </tr>\n",
       "    <tr>\n",
       "      <th>2</th>\n",
       "      <td>chr13</td>\n",
       "      <td>48691306</td>\n",
       "      <td>48691307</td>\n",
       "      <td>0.660462</td>\n",
       "    </tr>\n",
       "    <tr>\n",
       "      <th>3</th>\n",
       "      <td>chr13</td>\n",
       "      <td>48691307</td>\n",
       "      <td>48691308</td>\n",
       "      <td>0.660462</td>\n",
       "    </tr>\n",
       "    <tr>\n",
       "      <th>4</th>\n",
       "      <td>chr13</td>\n",
       "      <td>48691308</td>\n",
       "      <td>48691309</td>\n",
       "      <td>0.660462</td>\n",
       "    </tr>\n",
       "    <tr>\n",
       "      <th>...</th>\n",
       "      <td>...</td>\n",
       "      <td>...</td>\n",
       "      <td>...</td>\n",
       "      <td>...</td>\n",
       "    </tr>\n",
       "    <tr>\n",
       "      <th>77</th>\n",
       "      <td>chr13</td>\n",
       "      <td>48691381</td>\n",
       "      <td>48691382</td>\n",
       "      <td>0.660462</td>\n",
       "    </tr>\n",
       "    <tr>\n",
       "      <th>78</th>\n",
       "      <td>chr13</td>\n",
       "      <td>48691382</td>\n",
       "      <td>48691383</td>\n",
       "      <td>0.660462</td>\n",
       "    </tr>\n",
       "    <tr>\n",
       "      <th>79</th>\n",
       "      <td>chr13</td>\n",
       "      <td>48691383</td>\n",
       "      <td>48691384</td>\n",
       "      <td>0.660462</td>\n",
       "    </tr>\n",
       "    <tr>\n",
       "      <th>80</th>\n",
       "      <td>chr13</td>\n",
       "      <td>48691384</td>\n",
       "      <td>48691385</td>\n",
       "      <td>0.660462</td>\n",
       "    </tr>\n",
       "    <tr>\n",
       "      <th>81</th>\n",
       "      <td>chr13</td>\n",
       "      <td>48691385</td>\n",
       "      <td>48691386</td>\n",
       "      <td>0.660462</td>\n",
       "    </tr>\n",
       "  </tbody>\n",
       "</table>\n",
       "<p>82 rows × 4 columns</p>\n",
       "</div>"
      ],
      "text/plain": [
       "    chrom     start       pos   entropy\n",
       "0   chr13  48691304  48691305  0.660462\n",
       "1   chr13  48691305  48691306  0.660462\n",
       "2   chr13  48691306  48691307  0.660462\n",
       "3   chr13  48691307  48691308  0.660462\n",
       "4   chr13  48691308  48691309  0.660462\n",
       "..    ...       ...       ...       ...\n",
       "77  chr13  48691381  48691382  0.660462\n",
       "78  chr13  48691382  48691383  0.660462\n",
       "79  chr13  48691383  48691384  0.660462\n",
       "80  chr13  48691384  48691385  0.660462\n",
       "81  chr13  48691385  48691386  0.660462\n",
       "\n",
       "[82 rows x 4 columns]"
      ]
     },
     "execution_count": 32,
     "metadata": {},
     "output_type": "execute_result"
    }
   ],
   "source": [
    "pileup[['chrom', 'start', 'pos', 'entropy']].to_csv('/data1/projects//2021_MOPA/bioinfo/binfo1-datapack1//Mirlet7g_entropy.bedGraph', sep='\\t', index=None, header=None)\n",
    "pileup[['chrom', 'start', 'pos', 'entropy']]"
   ]
  },
  {
   "cell_type": "code",
   "execution_count": 20,
   "id": "7b3b750e-662e-4641-b62f-3898d045bd1c",
   "metadata": {},
   "outputs": [
    {
     "data": {
      "text/plain": [
       "<AxesSubplot:>"
      ]
     },
     "execution_count": 33,
     "metadata": {},
     "output_type": "execute_result"
    },
    {
     "data": {
      "image/png": "[encoded data removed]",
      "text/plain": [
       "<Figure size 432x288 with 1 Axes>"
      ]
     },
     "metadata": {
      "needs_background": "light"
     },
     "output_type": "display_data"
    }
   ],
   "source": [
    "pileup.entropy.plot.bar()"
   ]
  },
  {
   "cell_type": "code",
   "execution_count": 26,
   "id": "16d5964b-8cb3-492d-9eb3-856d299b09cd",
   "metadata": {},
   "outputs": [
    {
     "name": "stdout",
     "output_type": "stream",
     "text": [
      "chr13\tENSEMBL\tgene\t48691305\t48691393\t.\t-\t.\tgene_id \"ENSMUSG00000105621.3\"; gene_type \"miRNA\"; gene_name \"Mirlet7f-1\"; level 3; mgi_id \"MGI:2676798\";\n",
      "chr13\tENSEMBL\ttranscript\t48691305\t48691393\t.\t-\t.\tgene_id \"ENSMUSG00000105621.3\"; transcript_id \"ENSMUST00000198652.3\"; gene_type \"miRNA\"; gene_name \"Mirlet7f-1\"; transcript_type \"miRNA\"; transcript_name \"Mirlet7f-1-201\"; level 3; transcript_support_level \"NA\"; mgi_id \"MGI:2676798\"; tag \"basic\";\n",
      "chr13\tENSEMBL\texon\t48691305\t48691393\t.\t-\t.\tgene_id \"ENSMUSG00000105621.3\"; transcript_id \"ENSMUST00000198652.3\"; gene_type \"miRNA\"; gene_name \"Mirlet7f-1\"; transcript_type \"miRNA\"; transcript_name \"Mirlet7f-1-201\"; exon_number 1; exon_id \"ENSMUSE00001348852.2\"; level 3; transcript_support_level \"NA\"; mgi_id \"MGI:2676798\"; tag \"basic\";\n",
      "158\n",
      "[mpileup] 1 samples in 1 input files\n",
      "97 /data1/projects//2021_MOPA/bioinfo/binfo1-datapack1//CLIP-let7f-1.pileup\n",
      "chr13\t48691377\tN\t24\ttttttttttttttttttttttttt\tBIIGIGEDCGFIFGI@GHIDDIGI\n",
      "chr13\t48691378\tN\t24\taaaaaaaaaaaaaaaaaaaaaaaa\t?HIFIGGGAFEFABI>GII;EIGI\n",
      "chr13\t48691379\tN\t24\tcccccccccccccccccccccccc\tEIIGIGGDEGGIEGI;GIIDDIGI\n",
      "chr13\t48691380\tN\t24\ttttttttttttttttttttttttt\tEIIGIBGGEGFIFGI@GIIBDIGI\n",
      "chr13\t48691381\tN\t24\taaaaaaaaaaaaaaaaaaaaaaaa\tBEHFIGEG@FCEAGH4GII;AIDH\n",
      "chr13\t48691382\tN\t24\tcccccccccccccccccccccccc\t?IEGIHGG?GEGEBI=GIIDEIGG\n",
      "chr13\t48691383\tN\t24\tcccccccccccccccccccccccc\tEIGGIGGGAGFGFGI=GIIDGIGG\n",
      "chr13\t48691384\tN\t24\ttttttttttttttttttttttttt\t<IGGIHGG>GEGBGI8GII@GIGG\n",
      "chr13\t48691385\tN\t24\tcccccccccccccccccccccccc\tBIGGIBDD?GEGBEI=GIIBGIGG\n",
      "chr13\t48691386\tN\t24\ta$a$a$a$a$a$a$a$a$a$a$a$a$a$a$a$a$a$a$a$a$a$a$a$\tEIGGIFDECGFGFGI2BIIDGIGG\n"
     ]
    }
   ],
   "source": [
    "!grep -i mirlet7f-1 /data1/projects//2021_MOPA/bioinfo/binfo1-datapack1/gencode.gtf\n",
    "!samtools view -b -o /data1/projects//2021_MOPA/bioinfo/binfo1-datapack1//CLIP-let7f-1.bam /data1/projects//2021_MOPA/bioinfo/binfo1-datapack1/CLIP-35L33G.bam chr13:48691305-48691393\n",
    "!samtools view /data1/projects//2021_MOPA/bioinfo/binfo1-datapack1//CLIP-let7f-1.bam | wc -l\n",
    "!samtools mpileup /data1/projects//2021_MOPA/bioinfo/binfo1-datapack1//CLIP-let7f-1.bam > /data1/projects//2021_MOPA/bioinfo/binfo1-datapack1//CLIP-let7f-1.pileup\n",
    "!wc -l /data1/projects//2021_MOPA/bioinfo/binfo1-datapack1//CLIP-let7f-1.pileup\n",
    "!awk '$2 >= 48691305 && $2 <= 48691393 { print $0; }' /data1/projects//2021_MOPA/bioinfo/binfo1-datapack1//CLIP-let7f-1.pileup > /data1/projects//2021_MOPA/bioinfo/binfo1-datapack1//CLIP-let7f-1-gene.pileup\n",
    "!tail /data1/projects//2021_MOPA/bioinfo/binfo1-datapack1//CLIP-let7f-1-gene.pileup"
   ]
  },
  {
   "cell_type": "code",
   "execution_count": 27,
   "id": "9fe3d5f5-5422-4840-a584-770d2dc2f6f9",
   "metadata": {},
   "outputs": [
    {
     "data": {
      "text/plain": [
       "<AxesSubplot:>"
      ]
     },
     "execution_count": 27,
     "metadata": {},
     "output_type": "execute_result"
    },
    {
     "data": {
      "image/png": "[encoded data removed]",
      "text/plain": [
       "<Figure size 432x288 with 1 Axes>"
      ]
     },
     "metadata": {
      "needs_background": "light"
     },
     "output_type": "display_data"
    }
   ],
   "source": [
    "pileup = pd.read_csv('/data1/projects//2021_MOPA/bioinfo/binfo1-datapack1/CLIP-let7f-1-gene.pileup', sep='\\t', names=['chrom', 'pos', '_ref', 'count', 'basereads', 'quals'])\n",
    "toremove = re.compile('[<>$*#^]')\n",
    "\n",
    "pileup['entropy'] = pileup['matches'].apply(calculate_shannon_entropy)\n",
    "pileup.head()\n",
    "\n",
    "pileup[['chrom', 'start', 'pos', 'entropy']].to_csv('/data1/projects//2021_MOPA/bioinfo/binfo1-datapack1/Mirlet7f-1_entropy.bedGraph', sep='\\t', index=None, header=None)\n",
    "pileup[['chrom', 'start', 'pos', 'entropy']]\n",
    "\n",
    "pileup.entropy.plot.bar()\n"
   ]
  },
  {
   "cell_type": "code",
   "execution_count": null,
   "id": "d36a283c-bb19-4bfd-baa5-fc70c4d0f38e",
   "metadata": {},
   "outputs": [],
   "source": []
  }
 ],
 "metadata": {
  "kernelspec": {
   "display_name": "Python 3 (ipykernel)",
   "language": "python",
   "name": "python3"
  },
  "language_info": {
   "codemirror_mode": {
    "name": "ipython",
    "version": 3
   },
   "file_extension": ".py",
   "mimetype": "text/x-python",
   "name": "python",
   "nbconvert_exporter": "python",
   "pygments_lexer": "ipython3",
   "version": "3.8.13"
  }
 },
 "nbformat": 4,
 "nbformat_minor": 5
}
