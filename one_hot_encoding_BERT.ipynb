{
 "cells": [
  {
   "cell_type": "code",
   "execution_count": 2,
   "id": "76889b37-3871-4ce9-836d-5918800c34f9",
   "metadata": {},
   "outputs": [
    {
     "data": {
      "text/html": [
       "<style type='text/css'>\n",
       ".datatable table.frame { margin-bottom: 0; }\n",
       ".datatable table.frame thead { border-bottom: none; }\n",
       ".datatable table.frame tr.coltypes td {  color: #FFFFFF;  line-height: 6px;  padding: 0 0.5em;}\n",
       ".datatable .bool    { background: #DDDD99; }\n",
       ".datatable .object  { background: #565656; }\n",
       ".datatable .int     { background: #5D9E5D; }\n",
       ".datatable .float   { background: #4040CC; }\n",
       ".datatable .str     { background: #CC4040; }\n",
       ".datatable .time    { background: #40CC40; }\n",
       ".datatable .row_index {  background: var(--jp-border-color3);  border-right: 1px solid var(--jp-border-color0);  color: var(--jp-ui-font-color3);  font-size: 9px;}\n",
       ".datatable .frame tbody td { text-align: left; }\n",
       ".datatable .frame tr.coltypes .row_index {  background: var(--jp-border-color0);}\n",
       ".datatable th:nth-child(2) { padding-left: 12px; }\n",
       ".datatable .hellipsis {  color: var(--jp-cell-editor-border-color);}\n",
       ".datatable .vellipsis {  background: var(--jp-layout-color0);  color: var(--jp-cell-editor-border-color);}\n",
       ".datatable .na {  color: var(--jp-cell-editor-border-color);  font-size: 80%;}\n",
       ".datatable .sp {  opacity: 0.25;}\n",
       ".datatable .footer { font-size: 9px; }\n",
       ".datatable .frame_dimensions {  background: var(--jp-border-color3);  border-top: 1px solid var(--jp-border-color0);  color: var(--jp-ui-font-color3);  display: inline-block;  opacity: 0.6;  padding: 1px 10px 1px 5px;}\n",
       "</style>\n"
      ],
      "text/plain": [
       "<IPython.core.display.HTML object>"
      ]
     },
     "metadata": {},
     "output_type": "display_data"
    },
    {
     "name": "stderr",
     "output_type": "stream",
     "text": [
      "2023-06-07 11:31:01.225369: I tensorflow/core/platform/cpu_feature_guard.cc:151] This TensorFlow binary is optimized with oneAPI Deep Neural Network Library (oneDNN) to use the following CPU instructions in performance-critical operations:  AVX2 FMA\n",
      "To enable them in other operations, rebuild TensorFlow with the appropriate compiler flags.\n"
     ]
    },
    {
     "name": "stdout",
     "output_type": "stream",
     "text": [
      "cuda\n"
     ]
    },
    {
     "name": "stderr",
     "output_type": "stream",
     "text": [
      "2023-06-07 11:31:38.652581: I tensorflow/core/common_runtime/gpu/gpu_device.cc:1525] Created device /job:localhost/replica:0/task:0/device:GPU:0 with 19470 MB memory:  -> device: 0, name: NVIDIA RTX A6000, pci bus id: 0000:01:00.0, compute capability: 8.6\n"
     ]
    }
   ],
   "source": [
    "import os\n",
    "import torch\n",
    "import torch.nn as nn\n",
    "import os\n",
    "import pandas as pd\n",
    "import numpy as np\n",
    "\n",
    "from sklearn.model_selection import train_test_split\n",
    "from sklearn.metrics import confusion_matrix\n",
    "\n",
    "#from keras.models import Sequential, Model\n",
    "#from keras.layers import Dense, Input\n",
    "import datatable as dt\n",
    "from sklearn.preprocessing import LabelEncoder\n",
    "from sklearn.neural_network import MLPClassifier\n",
    "from sklearn import metrics\n",
    "import joblib\n",
    "from sklearn.ensemble import ExtraTreesClassifier\n",
    "from sklearn.inspection import permutation_importance\n",
    "from sklearn.ensemble import RandomForestClassifier\n",
    "import os\n",
    "from keras.models import load_model\n",
    "import joblib\n",
    "from sklearn.neural_network import MLPClassifier\n",
    "from tensorflow.compat.v1 import ConfigProto\n",
    "from tensorflow.compat.v1 import InteractiveSession\n",
    "import matplotlib.pyplot as plt\n",
    "from tqdm import tqdm\n",
    "import torch\n",
    "from torch import nn, optim\n",
    "from torch.utils.data import DataLoader\n",
    "from torchvision import datasets\n",
    "from torchvision.transforms import ToTensor\n",
    "from sklearn.preprocessing import LabelEncoder\n",
    "from sklearn.neural_network import MLPClassifier\n",
    "\n",
    "from torch.utils.data import DataLoader\n",
    "from torchvision import datasets\n",
    "from torchvision.transforms import ToTensor\n",
    "PATH='/home/jm/SNUH/methylation/v2/compare/'\n",
    "\n",
    "\n",
    "os.environ[\"CUDA_VISIBLE_DEVICES\"]=\"0\" # 0, 1, 2, 3 중 하나\n",
    "config = ConfigProto()\n",
    "config.gpu_options.per_process_gpu_memory_fraction = 0.4 # GPU 점유 비율\n",
    "session = InteractiveSession(config=config)\n",
    "\n",
    "device = torch.device('cuda' if torch.cuda.is_available() else 'cpu')\n",
    "print(device)\n",
    "\n",
    "                        "
   ]
  },
  {
   "cell_type": "code",
   "execution_count": 3,
   "id": "a70714d2-9ac6-4924-bcb6-804c33ceea2b",
   "metadata": {},
   "outputs": [],
   "source": [
    "data=pd.read_csv('/workspace/jaeminjeon_950515/SNUH/school/bioinfo1/35L33G.csv')\n",
    "data['labels']='binding_Motif'"
   ]
  },
  {
   "cell_type": "code",
   "execution_count": 4,
   "id": "b0f7f0b0-250e-4889-b26f-951fe34feba9",
   "metadata": {
    "tags": []
   },
   "outputs": [],
   "source": [
    "data=pd.read_csv('/workspace/jaeminjeon_950515/SNUH/school/bioinfo1/35L33G.csv')\n",
    "data['labels']='binding_Motif'\n",
    "data1=pd.read_csv('/workspace/jaeminjeon_950515/SNUH/school/bioinfo1/control.csv')\n",
    "\n",
    "data1.columns=['results','labels']\n",
    "data1['labels']='control'\n",
    "data=pd.concat([data,data1])"
   ]
  },
  {
   "cell_type": "code",
   "execution_count": 5,
   "id": "f333fd90-46cd-42ba-9da6-63bc6fa573dd",
   "metadata": {},
   "outputs": [],
   "source": [
    "df=data.drop_duplicates('results')\n",
    "df=df.reset_index(drop=True)"
   ]
  },
  {
   "cell_type": "code",
   "execution_count": 6,
   "id": "67759813-4489-4f1d-80c8-2d382d67f48f",
   "metadata": {},
   "outputs": [],
   "source": [
    "df=df.reset_index(drop=True)"
   ]
  },
  {
   "cell_type": "code",
   "execution_count": 7,
   "id": "2a9d312a-a52d-45c9-9ec8-0c40bc7258f6",
   "metadata": {
    "tags": []
   },
   "outputs": [],
   "source": [
    "import torch\n",
    "import torch.nn as nn\n",
    "import torch.optim as optim\n",
    "import numpy as np\n",
    "from sklearn.model_selection import train_test_split\n",
    "from sklearn.preprocessing import LabelEncoder\n",
    "from torch.utils.data import Dataset, DataLoader\n",
    "\n",
    "# Define the CNN model\n",
    "class CNNModel(nn.Module):\n",
    "    def __init__(self):\n",
    "        super(CNNModel, self).__init__()\n",
    "        self.conv1 = nn.Conv1d(4, 32, kernel_size=3)\n",
    "        self.conv2 = nn.Conv1d(32, 64, kernel_size=3)\n",
    "        self.fc1 = nn.Linear(64 * (sequence_length - 4), 128)  # Adjust input size of fc1 layer\n",
    "        self.fc2 = nn.Linear(128, 2)  # Assuming 2 classes for prediction\n",
    "\n",
    "    def forward(self, x):\n",
    "        x = self.conv1(x)\n",
    "        x = nn.functional.relu(x)\n",
    "        x = self.conv2(x)\n",
    "        x = nn.functional.relu(x)\n",
    "        x = x.view(x.size(0), -1)\n",
    "        x = self.fc1(x)\n",
    "        x = nn.functional.relu(x)\n",
    "        x = self.fc2(x)\n",
    "        return x\n",
    "\n",
    "# Define a custom dataset\n",
    "class CustomDataset(Dataset):\n",
    "    def __init__(self, data, labels):\n",
    "        self.data = data\n",
    "        self.labels = labels\n",
    "\n",
    "    def __len__(self):\n",
    "        return len(self.data)\n",
    "\n",
    "    def __getitem__(self, idx):\n",
    "        return self.data[idx], self.labels[idx]\n",
    "\n",
    "# Convert each DNA sequence to a one-hot encoded matrix\n",
    "bases=['A','C','G','T']\n",
    "encoded_matrices = []\n",
    "for seq in df['results']:\n",
    "    encoded_seq = []\n",
    "    for base in seq:\n",
    "        encoded_base = [int(base == b) for b in bases]\n",
    "        encoded_seq.append(encoded_base)\n",
    "    encoded_matrices.append(encoded_seq)\n",
    "\n",
    "# Convert the list of matrices to a numpy array\n",
    "encoded_matrices = np.array(encoded_matrices)\n",
    "\n",
    "# Convert DataFrame to numpy arrays\n",
    "labels = np.array(df['labels'].tolist())\n",
    "\n",
    "# Encode labels to numerical values\n",
    "label_encoder = LabelEncoder()\n",
    "labels = label_encoder.fit_transform(labels)\n",
    "\n",
    "# Split the data into training and validation sets\n",
    "data_train, data_val, labels_train, labels_val = train_test_split(encoded_matrices, labels, test_size=0.2, random_state=42, stratify=labels)\n",
    "\n",
    "# Create custom datasets\n",
    "train_dataset = CustomDataset(data_train, labels_train)\n",
    "val_dataset = CustomDataset(data_val, labels_val)\n",
    "\n",
    "# Create data loaders\n",
    "batch_size = 32\n",
    "train_loader = DataLoader(train_dataset, batch_size=batch_size, shuffle=True)\n",
    "val_loader = DataLoader(val_dataset, batch_size=batch_size, shuffle=False)\n",
    "\n",
    "# Instantiate the CNN model\n",
    "sequence_length = encoded_matrices.shape[1]  # Get sequence length\n",
    "model = CNNModel()\n",
    "\n",
    "# Define loss function and optimizer\n",
    "criterion = nn.CrossEntropyLoss()\n",
    "optimizer = optim.Adam(model.parameters(), lr=0.001)\n",
    "\n",
    "# Training loop\n",
    "num_epochs = 100\n",
    "device = torch.device('cuda' if torch.cuda.is_available() else 'cpu')\n",
    "model.to(device)\n",
    "for epoch in range(num_epochs):\n",
    "    model.train()\n",
    "    for data, labels in train_loader:\n",
    "        data = data.float().permute(0, 2, 1).to(device)  # Permute dimensions for proper input shape\n",
    "        labels = labels.to(device)\n",
    "        optimizer.zero_grad()\n",
    "        outputs = model(data)\n",
    "        loss = criterion(outputs, labels)\n",
    "        loss.backward()\n",
    "        optimizer.step()"
   ]
  },
  {
   "cell_type": "code",
   "execution_count": 8,
   "id": "ec7c822d-1904-4637-8c22-b910fe4d16c7",
   "metadata": {},
   "outputs": [],
   "source": [
    "from torch.nn.functional import softmax"
   ]
  },
  {
   "cell_type": "code",
   "execution_count": 9,
   "id": "ef019d13-eeea-43ee-9d9b-e5217b1bc021",
   "metadata": {},
   "outputs": [],
   "source": [
    "model.eval()\n",
    "predictions = []\n",
    "predictions_prob = []\n",
    "with torch.no_grad():\n",
    "    for data, _ in val_loader:\n",
    "        data = data.float().permute(0, 2, 1).to(device)\n",
    "        outputs = model(data)\n",
    "        _, predicted = torch.max(outputs.data, 1)\n",
    "        prob=softmax(outputs.data, dim=1)\n",
    "        predictions_prob.extend(prob.cpu().numpy())\n",
    "        predictions.extend(predicted.cpu().numpy())"
   ]
  },
  {
   "cell_type": "code",
   "execution_count": null,
   "id": "d20e7bed-78f9-42a8-b7b4-c6471e28dfb2",
   "metadata": {},
   "outputs": [],
   "source": [
    "label_encoder.inverse_transform(labels_val)"
   ]
  },
  {
   "cell_type": "code",
   "execution_count": 10,
   "id": "090da212-376a-4490-9c06-da8bbe3cb27e",
   "metadata": {},
   "outputs": [
    {
     "data": {
      "text/plain": [
       "array(['binding_Motif', 'binding_Motif', 'binding_Motif', ..., 'control',\n",
       "       'binding_Motif', 'binding_Motif'], dtype='<U13')"
      ]
     },
     "execution_count": 10,
     "metadata": {},
     "output_type": "execute_result"
    }
   ],
   "source": [
    "label_encoder.inverse_transform(predictions)"
   ]
  },
  {
   "cell_type": "code",
   "execution_count": 11,
   "id": "e91f1f42-9e9d-4e92-9cc0-b0f86b547ae0",
   "metadata": {},
   "outputs": [],
   "source": [
    "from sklearn.metrics import confusion_matrix, ConfusionMatrixDisplay, f1_score, \\\n",
    "    classification_report, precision_recall_fscore_support, roc_auc_score\n",
    "from sklearn import metrics"
   ]
  },
  {
   "cell_type": "code",
   "execution_count": 12,
   "id": "c095c24a-31e5-4f66-8b94-ea5e60f86729",
   "metadata": {
    "tags": []
   },
   "outputs": [
    {
     "name": "stdout",
     "output_type": "stream",
     "text": [
      "               precision    recall  f1-score   support\n",
      "\n",
      "binding_Motif     0.9698    0.9513    0.9605      4659\n",
      "      control     0.3401    0.4588    0.3907       255\n",
      "\n",
      "     accuracy                         0.9257      4914\n",
      "    macro avg     0.6550    0.7051    0.6756      4914\n",
      " weighted avg     0.9371    0.9257    0.9309      4914\n",
      "\n"
     ]
    }
   ],
   "source": [
    "print(metrics.classification_report(label_encoder.inverse_transform(predictions),\n",
    "                                    label_encoder.inverse_transform(labels_val), digits=4))"
   ]
  },
  {
   "cell_type": "code",
   "execution_count": 15,
   "id": "073dd982-f978-4088-9767-eb876036b53a",
   "metadata": {
    "tags": []
   },
   "outputs": [
    {
     "data": {
      "text/plain": [
       "array([1.        , 0.99997294, 1.        , ..., 0.00427856, 1.        ,\n",
       "       1.        ], dtype=float32)"
      ]
     },
     "execution_count": 15,
     "metadata": {},
     "output_type": "execute_result"
    }
   ],
   "source": [
    "np.array(predictions_prob)[:,0]"
   ]
  },
  {
   "cell_type": "code",
   "execution_count": 62,
   "id": "eec727c9-4468-48b2-9a49-0fab74db7b7b",
   "metadata": {
    "collapsed": true,
    "jupyter": {
     "outputs_hidden": true
    },
    "tags": []
   },
   "outputs": [
    {
     "data": {
      "text/plain": [
       "(array([0.        , 0.80200555, 0.82398122, 0.8337956 , 0.83955622,\n",
       "        0.84382334, 0.84745039, 0.85043738, 0.85385108, 0.85619799,\n",
       "        0.85833156, 0.8600384 , 0.86195861, 0.86537231, 0.86622573,\n",
       "        0.86729251, 0.86899936, 0.86985278, 0.87049285, 0.87134628,\n",
       "        0.87198635, 0.87326648, 0.87433326, 0.87518669, 0.8756134 ,\n",
       "        0.87732025, 0.8775336 , 0.87796032, 0.87881374, 0.87924045,\n",
       "        0.88052059, 0.8809473 , 0.88158737, 0.88222744, 0.88308086,\n",
       "        0.88372093, 0.88393429, 0.88457435, 0.88500107, 0.88585449,\n",
       "        0.8862812 , 0.88670792, 0.88692127, 0.88734798, 0.88756134,\n",
       "        0.88820141, 0.88862812, 0.88884148, 0.89012161, 0.89033497,\n",
       "        0.89097504, 0.89140175, 0.89204182, 0.89246853, 0.89289524,\n",
       "        0.89353531, 0.89481545, 0.89545552, 0.89588223, 0.89630894,\n",
       "        0.89801579, 0.89822914, 0.89865586, 0.89972264, 0.90057606,\n",
       "        0.90228291, 0.90292298, 0.90313633, 0.9037764 , 0.90441647,\n",
       "        0.90484318, 0.90740346, 0.90783017, 0.90825688, 0.90868359,\n",
       "        0.90996373, 0.91039044, 0.91103051, 0.91145722, 0.91316407,\n",
       "        0.91359078, 0.91487092, 0.91529763, 0.9159377 , 0.91636441,\n",
       "        0.9193514 , 0.92020482, 0.9212716 , 0.92169831, 0.92361852,\n",
       "        0.92404523, 0.92511201, 0.92553872, 0.93471304, 0.93513975,\n",
       "        1.        , 1.        ]),\n",
       " array([0., 0., 0., 0., 0., 0., 0., 0., 0., 0., 0., 0., 0., 0., 0., 0., 0.,\n",
       "        0., 0., 0., 0., 0., 0., 0., 0., 0., 0., 0., 0., 0., 0., 0., 0., 0.,\n",
       "        0., 0., 0., 0., 0., 0., 0., 0., 0., 0., 0., 0., 0., 0., 0., 0., 0.,\n",
       "        0., 0., 0., 0., 0., 0., 0., 0., 0., 0., 0., 0., 0., 0., 0., 0., 0.,\n",
       "        0., 0., 0., 0., 0., 0., 0., 0., 0., 0., 0., 0., 0., 0., 0., 0., 0.,\n",
       "        0., 0., 0., 0., 0., 0., 0., 0., 0., 0., 0., 1.]),\n",
       " array([2.0000000e+00, 1.0000000e+00, 9.9999988e-01, 9.9999976e-01,\n",
       "        9.9999964e-01, 9.9999952e-01, 9.9999940e-01, 9.9999928e-01,\n",
       "        9.9999917e-01, 9.9999905e-01, 9.9999893e-01, 9.9999881e-01,\n",
       "        9.9999869e-01, 9.9999845e-01, 9.9999833e-01, 9.9999821e-01,\n",
       "        9.9999809e-01, 9.9999797e-01, 9.9999785e-01, 9.9999774e-01,\n",
       "        9.9999762e-01, 9.9999750e-01, 9.9999738e-01, 9.9999726e-01,\n",
       "        9.9999714e-01, 9.9999690e-01, 9.9999678e-01, 9.9999666e-01,\n",
       "        9.9999654e-01, 9.9999630e-01, 9.9999607e-01, 9.9999583e-01,\n",
       "        9.9999571e-01, 9.9999535e-01, 9.9999499e-01, 9.9999487e-01,\n",
       "        9.9999475e-01, 9.9999464e-01, 9.9999440e-01, 9.9999428e-01,\n",
       "        9.9999404e-01, 9.9999392e-01, 9.9999380e-01, 9.9999368e-01,\n",
       "        9.9999356e-01, 9.9999344e-01, 9.9999332e-01, 9.9999321e-01,\n",
       "        9.9999285e-01, 9.9999273e-01, 9.9999261e-01, 9.9999249e-01,\n",
       "        9.9999201e-01, 9.9999154e-01, 9.9999118e-01, 9.9999034e-01,\n",
       "        9.9998987e-01, 9.9998951e-01, 9.9998939e-01, 9.9998903e-01,\n",
       "        9.9998796e-01, 9.9998784e-01, 9.9998772e-01, 9.9998665e-01,\n",
       "        9.9998510e-01, 9.9998319e-01, 9.9998271e-01, 9.9998176e-01,\n",
       "        9.9998116e-01, 9.9998045e-01, 9.9997973e-01, 9.9997413e-01,\n",
       "        9.9997318e-01, 9.9997246e-01, 9.9997199e-01, 9.9997056e-01,\n",
       "        9.9996996e-01, 9.9996853e-01, 9.9996507e-01, 9.9995887e-01,\n",
       "        9.9995792e-01, 9.9995577e-01, 9.9995458e-01, 9.9995148e-01,\n",
       "        9.9995100e-01, 9.9992657e-01, 9.9992526e-01, 9.9991632e-01,\n",
       "        9.9991524e-01, 9.9989390e-01, 9.9989295e-01, 9.9988639e-01,\n",
       "        9.9987578e-01, 9.9977225e-01, 9.9977106e-01, 5.1724029e-01,\n",
       "        1.1271055e-28], dtype=float32))"
      ]
     },
     "execution_count": 62,
     "metadata": {},
     "output_type": "execute_result"
    }
   ],
   "source": [
    "from sklearn.metrics import roc_curve, auc\n",
    "roc_curve(predictions,np.array(predictions_prob)[:,0])"
   ]
  },
  {
   "cell_type": "code",
   "execution_count": 13,
   "id": "121b9a0c-9622-433f-93c2-341b1c0b0827",
   "metadata": {},
   "outputs": [
    {
     "data": {
      "text/plain": [
       "(array([0, 0, 0, ..., 0, 0, 0]),\n",
       " array([1.4530433e-13, 2.7084252e-05, 8.7893879e-09, ..., 9.9572146e-01,\n",
       "        1.4209407e-21, 1.4899260e-32], dtype=float32))"
      ]
     },
     "execution_count": 13,
     "metadata": {},
     "output_type": "execute_result"
    }
   ],
   "source": [
    "labels_val,np.array(predictions_prob)[:,1]"
   ]
  },
  {
   "cell_type": "code",
   "execution_count": 69,
   "id": "63ca126b-0ae0-412c-8ed9-4888067e5955",
   "metadata": {
    "tags": []
   },
   "outputs": [],
   "source": [
    "a=pd.read_csv('/workspace/jaeminjeon_950515/SNUH/school/bioinfo1/DNA_BERT_prob.csv')"
   ]
  },
  {
   "cell_type": "code",
   "execution_count": 20,
   "id": "e47e8763-39bb-4ed0-b30c-2085ae5528ef",
   "metadata": {},
   "outputs": [],
   "source": [
    "pd.DataFrame(data=labels_val).to_csv('/workspace/jaeminjeon_950515/SNUH/school/bioinfo1/answer.csv')\n",
    "pd.DataFrame(np.array(predictions_prob)[:,1]).to_csv('/workspace/jaeminjeon_950515/SNUH/school/bioinfo1/one_hot_prob.csv')"
   ]
  },
  {
   "cell_type": "code",
   "execution_count": 23,
   "id": "8607ecc4-bfd8-4b1b-8c8b-c8cf38912a44",
   "metadata": {
    "tags": []
   },
   "outputs": [
    {
     "data": {
      "image/png": "[encoded data removed]",
      "text/plain": [
       "<Figure size 540x540 with 1 Axes>"
      ]
     },
     "metadata": {
      "needs_background": "light"
     },
     "output_type": "display_data"
    }
   ],
   "source": [
    "from sklearn import datasets\n",
    "from sklearn.model_selection import train_test_split\n",
    "from sklearn.preprocessing import StandardScaler\n",
    "from sklearn.linear_model import LogisticRegression\n",
    "from sklearn.metrics import roc_curve, auc\n",
    "import matplotlib.pyplot as plt\n",
    "from sklearn.pipeline import make_pipeline\n",
    "\n",
    "\n",
    "#fpr3, tpr3, thresholds = roc_curve(labels_val,np.array(a.iloc[:,0]))\n",
    "#roc_auc2 = auc(fpr2, tpr2)\n",
    "\n",
    "fpr3, tpr3, thresholds = roc_curve(labels_val,np.array(predictions_prob)[:,1])\n",
    "roc_auc3 = auc(fpr3, tpr3)\n",
    " \n",
    "fig, ax = plt.subplots(figsize=(7.5, 7.5))\n",
    " \n",
    "#plt.plot(fpr2, tpr2, label='DNA BERT encoder (AUC = %0.2f)' % (roc_auc2))\n",
    "plt.plot(fpr3, tpr3, label='One-hot encoder (AUC = %0.2f)' % (roc_auc3))\n",
    "plt.plot([0, 1], [0, 1], linestyle='--', color='red', label='Random Classifier')   \n",
    "\n",
    "plt.xlim([-0.01, 1.01])\n",
    "plt.ylim([-0.01, 1.01])\n",
    "plt.xlabel('False positive rate')\n",
    "plt.ylabel('True positive rate')\n",
    "plt.legend(loc=\"lower right\")\n",
    "plt.show()"
   ]
  },
  {
   "cell_type": "code",
   "execution_count": 74,
   "id": "574ececd-f102-4d6c-b58c-75fe5bc7b93f",
   "metadata": {
    "tags": []
   },
   "outputs": [
    {
     "data": {
      "image/png": "[encoded data removed]",
      "text/plain": [
       "<Figure size 540x540 with 1 Axes>"
      ]
     },
     "metadata": {
      "needs_background": "light"
     },
     "output_type": "display_data"
    }
   ],
   "source": [
    "from sklearn import datasets\n",
    "from sklearn.model_selection import train_test_split\n",
    "from sklearn.preprocessing import StandardScaler\n",
    "from sklearn.linear_model import LogisticRegression\n",
    "from sklearn.metrics import roc_curve, auc\n",
    "import matplotlib.pyplot as plt\n",
    "from sklearn.pipeline import make_pipeline\n",
    "\n",
    "\n",
    "fpr3, tpr3, thresholds = roc_curve(labels_val,np.array(a.iloc[:,0]))\n",
    "roc_auc2 = auc(fpr2, tpr2)\n",
    "\n",
    "fpr3, tpr3, thresholds = roc_curve(labels_val,np.array(predictions_prob)[:,1])\n",
    "roc_auc3 = auc(fpr3, tpr3)\n",
    " \n",
    "fig, ax = plt.subplots(figsize=(7.5, 7.5))\n",
    " \n",
    "plt.plot(fpr2, tpr2, label='DNA BERT encoder (AUC = %0.2f)' % (roc_auc2))\n",
    "plt.plot(fpr3, tpr3, label='One-hot encoder (AUC = %0.2f)' % (roc_auc3))\n",
    "plt.plot([0, 1], [0, 1], linestyle='--', color='red', label='Random Classifier')   \n",
    "\n",
    "plt.xlim([-0.01, 1.01])\n",
    "plt.ylim([-0.01, 1.01])\n",
    "plt.xlabel('False positive rate')\n",
    "plt.ylabel('True positive rate')\n",
    "plt.legend(loc=\"lower right\")\n",
    "plt.show()"
   ]
  },
  {
   "cell_type": "code",
   "execution_count": 59,
   "id": "8b162aae-cc33-4f12-84cd-181c73c1f3b7",
   "metadata": {},
   "outputs": [
    {
     "data": {
      "text/plain": [
       "1.0"
      ]
     },
     "execution_count": 59,
     "metadata": {},
     "output_type": "execute_result"
    }
   ],
   "source": [
    "auc(fpr3, tpr3)"
   ]
  },
  {
   "cell_type": "code",
   "execution_count": null,
   "id": "2e836e96-6c82-44c0-8668-a584846eb581",
   "metadata": {},
   "outputs": [],
   "source": []
  }
 ],
 "metadata": {
  "kernelspec": {
   "display_name": "Python 3 (ipykernel)",
   "language": "python",
   "name": "python3"
  },
  "language_info": {
   "codemirror_mode": {
    "name": "ipython",
    "version": 3
   },
   "file_extension": ".py",
   "mimetype": "text/x-python",
   "name": "python",
   "nbconvert_exporter": "python",
   "pygments_lexer": "ipython3",
   "version": "3.8.10"
  }
 },
 "nbformat": 4,
 "nbformat_minor": 5
}
